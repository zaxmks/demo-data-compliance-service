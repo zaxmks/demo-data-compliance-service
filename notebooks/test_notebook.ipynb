{
 "cells": [
  {
   "cell_type": "code",
   "execution_count": 1,
   "id": "private-transaction",
   "metadata": {},
   "outputs": [
    {
     "name": "stdout",
     "output_type": "stream",
     "text": [
      "/workspace/notebooks\r\n"
     ]
    }
   ],
   "source": [
    "!pwd\n",
    "import sys\n",
    "sys.path.append('/workspace')\n"
   ]
  },
  {
   "cell_type": "code",
   "execution_count": 2,
   "id": "headed-uzbekistan",
   "metadata": {},
   "outputs": [
    {
     "name": "stderr",
     "output_type": "stream",
     "text": [
      "[20/03/2021 02:18:40] [    INFO] [dotenv.main] [_get_stream():77] [PID:160 TID:140691405354816] -> Python-dotenv could not find configuration file /workspace/src/core/env/.local.env.local.\n"
     ]
    }
   ],
   "source": [
    "from src.core.db.config import DatabaseEnum\n",
    "from src.core.db.models.pdf_models import Fincen8300Rev4\n",
    "from src.core.db.session import DBContext, DbQuery"
   ]
  },
  {
   "cell_type": "code",
   "execution_count": 3,
   "id": "handmade-newark",
   "metadata": {},
   "outputs": [
    {
     "name": "stderr",
     "output_type": "stream",
     "text": [
      "[20/03/2021 02:18:40] [    INFO] [sqlalchemy.engine.base.Engine] [_execute_context():1235] [PID:160 TID:140691405354816] -> select version()\n",
      "[20/03/2021 02:18:40] [    INFO] [sqlalchemy.engine.base.Engine] [_execute_context():1240] [PID:160 TID:140691405354816] -> {}\n",
      "[20/03/2021 02:18:40] [    INFO] [sqlalchemy.engine.base.Engine] [_execute_context():1235] [PID:160 TID:140691405354816] -> select current_schema()\n",
      "[20/03/2021 02:18:40] [    INFO] [sqlalchemy.engine.base.Engine] [_execute_context():1240] [PID:160 TID:140691405354816] -> {}\n",
      "[20/03/2021 02:18:40] [    INFO] [sqlalchemy.engine.base.Engine] [_cursor_execute():1341] [PID:160 TID:140691405354816] -> SELECT CAST('test plain returns' AS VARCHAR(60)) AS anon_1\n",
      "[20/03/2021 02:18:40] [    INFO] [sqlalchemy.engine.base.Engine] [_cursor_execute():1342] [PID:160 TID:140691405354816] -> {}\n",
      "[20/03/2021 02:18:40] [    INFO] [sqlalchemy.engine.base.Engine] [_cursor_execute():1341] [PID:160 TID:140691405354816] -> SELECT CAST('test unicode returns' AS VARCHAR(60)) AS anon_1\n",
      "[20/03/2021 02:18:40] [    INFO] [sqlalchemy.engine.base.Engine] [_cursor_execute():1342] [PID:160 TID:140691405354816] -> {}\n",
      "[20/03/2021 02:18:40] [    INFO] [sqlalchemy.engine.base.Engine] [_execute_context():1235] [PID:160 TID:140691405354816] -> show standard_conforming_strings\n",
      "[20/03/2021 02:18:40] [    INFO] [sqlalchemy.engine.base.Engine] [_execute_context():1240] [PID:160 TID:140691405354816] -> {}\n",
      "[20/03/2021 02:18:40] [    INFO] [sqlalchemy.engine.base.Engine] [_begin_impl():730] [PID:160 TID:140691405354816] -> BEGIN (implicit)\n",
      "[20/03/2021 02:18:40] [    INFO] [sqlalchemy.engine.base.Engine] [_execute_context():1235] [PID:160 TID:140691405354816] -> INSERT INTO fincen8300_rev4 (amends_prior_report, suspicious_transaction, multiple_individuals, last_name, first_name, middle_initial, tin, address, dob, city, state, zip, country, occ_prof_bus, identdoc_describe, identdoc_issued_by, identdoc_number, multiple_behalf, last_name_org_name_behalf, first_name_behalf, middle_initial_behalf, tin_behalf, dba_behalf, address_behalf, occ_prof_bus_behalf, city_behalf, state_behalf, zip_behalf, country_behalf, identdoc_describe_behalf, identdoc_issued_by_behalf, identdoc_number_behalf, date_cash_received, total_cash_received, cash_received_mult_pmts, total_price, usde_us_currency, usde_amt_benj_higher, usde_foreign_currency, foreign_currency_country, usde_cashiers_checks, usde_money_orders, usde_bank_drafts, usde_travelers_checks, type_ot_personal_prop, type_ot_real_property, type_ot_personal_services, type_ot_business_services, type_ot_intangible_property, type_ot_debt_obligations_paid, type_ot_exchange_of_cash, type_ot_escrow_or_trust_funds, type_ot_bail_received, type_ot_other, specific_description_of_property, business_name_brc, ein_brc, address_brc, city_brc, state_brc, zip_code_brc, nature_of_business_brc, signature_footer, title_footer, date_of_signature_footer, contact_name_printed_brc, contact_phone_brc) VALUES (%(amends_prior_report)s, %(suspicious_transaction)s, %(multiple_individuals)s, %(last_name)s, %(first_name)s, %(middle_initial)s, %(tin)s, %(address)s, %(dob)s, %(city)s, %(state)s, %(zip)s, %(country)s, %(occ_prof_bus)s, %(identdoc_describe)s, %(identdoc_issued_by)s, %(identdoc_number)s, %(multiple_behalf)s, %(last_name_org_name_behalf)s, %(first_name_behalf)s, %(middle_initial_behalf)s, %(tin_behalf)s, %(dba_behalf)s, %(address_behalf)s, %(occ_prof_bus_behalf)s, %(city_behalf)s, %(state_behalf)s, %(zip_behalf)s, %(country_behalf)s, %(identdoc_describe_behalf)s, %(identdoc_issued_by_behalf)s, %(identdoc_number_behalf)s, %(date_cash_received)s, %(total_cash_received)s, %(cash_received_mult_pmts)s, %(total_price)s, %(usde_us_currency)s, %(usde_amt_benj_higher)s, %(usde_foreign_currency)s, %(foreign_currency_country)s, %(usde_cashiers_checks)s, %(usde_money_orders)s, %(usde_bank_drafts)s, %(usde_travelers_checks)s, %(type_ot_personal_prop)s, %(type_ot_real_property)s, %(type_ot_personal_services)s, %(type_ot_business_services)s, %(type_ot_intangible_property)s, %(type_ot_debt_obligations_paid)s, %(type_ot_exchange_of_cash)s, %(type_ot_escrow_or_trust_funds)s, %(type_ot_bail_received)s, %(type_ot_other)s, %(specific_description_of_property)s, %(business_name_brc)s, %(ein_brc)s, %(address_brc)s, %(city_brc)s, %(state_brc)s, %(zip_code_brc)s, %(nature_of_business_brc)s, %(signature_footer)s, %(title_footer)s, %(date_of_signature_footer)s, %(contact_name_printed_brc)s, %(contact_phone_brc)s) RETURNING fincen8300_rev4.id\n",
      "[20/03/2021 02:18:40] [    INFO] [sqlalchemy.engine.base.Engine] [_execute_context():1240] [PID:160 TID:140691405354816] -> {'amends_prior_report': None, 'suspicious_transaction': None, 'multiple_individuals': None, 'last_name': None, 'first_name': 'BillyInNotebook', 'middle_initial': None, 'tin': None, 'address': None, 'dob': None, 'city': None, 'state': None, 'zip': None, 'country': None, 'occ_prof_bus': None, 'identdoc_describe': None, 'identdoc_issued_by': None, 'identdoc_number': None, 'multiple_behalf': None, 'last_name_org_name_behalf': None, 'first_name_behalf': None, 'middle_initial_behalf': None, 'tin_behalf': None, 'dba_behalf': None, 'address_behalf': None, 'occ_prof_bus_behalf': None, 'city_behalf': None, 'state_behalf': None, 'zip_behalf': None, 'country_behalf': None, 'identdoc_describe_behalf': None, 'identdoc_issued_by_behalf': None, 'identdoc_number_behalf': None, 'date_cash_received': None, 'total_cash_received': None, 'cash_received_mult_pmts': None, 'total_price': None, 'usde_us_currency': None, 'usde_amt_benj_higher': None, 'usde_foreign_currency': None, 'foreign_currency_country': None, 'usde_cashiers_checks': None, 'usde_money_orders': None, 'usde_bank_drafts': None, 'usde_travelers_checks': None, 'type_ot_personal_prop': None, 'type_ot_real_property': None, 'type_ot_personal_services': None, 'type_ot_business_services': None, 'type_ot_intangible_property': None, 'type_ot_debt_obligations_paid': None, 'type_ot_exchange_of_cash': None, 'type_ot_escrow_or_trust_funds': None, 'type_ot_bail_received': None, 'type_ot_other': None, 'specific_description_of_property': None, 'business_name_brc': None, 'ein_brc': None, 'address_brc': None, 'city_brc': None, 'state_brc': None, 'zip_code_brc': None, 'nature_of_business_brc': None, 'signature_footer': None, 'title_footer': None, 'date_of_signature_footer': None, 'contact_name_printed_brc': None, 'contact_phone_brc': None}\n",
      "[20/03/2021 02:18:40] [    INFO] [sqlalchemy.engine.base.Engine] [_commit_impl():772] [PID:160 TID:140691405354816] -> COMMIT\n"
     ]
    }
   ],
   "source": [
    "with DBContext(DatabaseEnum.PDF_INGESTION_DB) as pdf_db:\n",
    "    pdf_db.add(Fincen8300Rev4(first_name='BillyInNotebook'))"
   ]
  },
  {
   "cell_type": "code",
   "execution_count": 4,
   "id": "large-wonder",
   "metadata": {},
   "outputs": [
    {
     "name": "stderr",
     "output_type": "stream",
     "text": [
      "[20/03/2021 02:18:40] [    INFO] [sqlalchemy.engine.base.Engine] [_execute_context():1235] [PID:160 TID:140691405354816] -> SELECT * from public.fincen8300_rev4\n",
      "[20/03/2021 02:18:40] [    INFO] [sqlalchemy.engine.base.Engine] [_execute_context():1240] [PID:160 TID:140691405354816] -> {}\n"
     ]
    },
    {
     "name": "stdout",
     "output_type": "stream",
     "text": [
      "<sqlalchemy.engine.result.ResultProxy object at 0x7ff521bd2a50>\n"
     ]
    }
   ],
   "source": [
    "db = DbQuery(DatabaseEnum.PDF_INGESTION_DB)\n",
    "result = db.execute(\"SELECT * from public.fincen8300_rev4\")\n",
    "print(result)\n",
    "#for r in result:\n",
    "#    print(type(r))\n",
    "#    print(r)"
   ]
  },
  {
   "cell_type": "markdown",
   "id": "administrative-berry",
   "metadata": {},
   "source": [
    "# Read the pdf data into a data source"
   ]
  },
  {
   "cell_type": "code",
   "execution_count": 5,
   "id": "intermediate-latvia",
   "metadata": {},
   "outputs": [
    {
     "name": "stderr",
     "output_type": "stream",
     "text": [
      "[20/03/2021 02:18:40] [    INFO] [sqlalchemy.engine.base.Engine] [_execute_context():1235] [PID:160 TID:140691405354816] -> SELECT * from public.fincen8300_rev4\n",
      "[20/03/2021 02:18:40] [    INFO] [sqlalchemy.engine.base.Engine] [_execute_context():1240] [PID:160 TID:140691405354816] -> {}\n"
     ]
    }
   ],
   "source": [
    "db = DbQuery(DatabaseEnum.PDF_INGESTION_DB)\n",
    "result = db.execute(\"SELECT * from public.fincen8300_rev4\")\n"
   ]
  },
  {
   "cell_type": "code",
   "execution_count": 6,
   "id": "selected-number",
   "metadata": {},
   "outputs": [
    {
     "data": {
      "text/plain": [
       "sqlalchemy.engine.result.ResultProxy"
      ]
     },
     "execution_count": 6,
     "metadata": {},
     "output_type": "execute_result"
    }
   ],
   "source": [
    "type(result)"
   ]
  },
  {
   "cell_type": "code",
   "execution_count": 7,
   "id": "acceptable-muslim",
   "metadata": {},
   "outputs": [],
   "source": [
    "from pandas import DataFrame\n",
    "df = DataFrame(result.fetchall())\n",
    "df.columns = result.keys()"
   ]
  },
  {
   "cell_type": "code",
   "execution_count": 8,
   "id": "documentary-registrar",
   "metadata": {},
   "outputs": [
    {
     "data": {
      "text/html": [
       "<div>\n",
       "<style scoped>\n",
       "    .dataframe tbody tr th:only-of-type {\n",
       "        vertical-align: middle;\n",
       "    }\n",
       "\n",
       "    .dataframe tbody tr th {\n",
       "        vertical-align: top;\n",
       "    }\n",
       "\n",
       "    .dataframe thead th {\n",
       "        text-align: right;\n",
       "    }\n",
       "</style>\n",
       "<table border=\"1\" class=\"dataframe\">\n",
       "  <thead>\n",
       "    <tr style=\"text-align: right;\">\n",
       "      <th></th>\n",
       "      <th>id</th>\n",
       "      <th>amends_prior_report</th>\n",
       "      <th>suspicious_transaction</th>\n",
       "      <th>multiple_individuals</th>\n",
       "      <th>last_name</th>\n",
       "      <th>first_name</th>\n",
       "      <th>middle_initial</th>\n",
       "      <th>tin</th>\n",
       "      <th>address</th>\n",
       "      <th>dob</th>\n",
       "      <th>...</th>\n",
       "      <th>address_brc</th>\n",
       "      <th>city_brc</th>\n",
       "      <th>state_brc</th>\n",
       "      <th>zip_code_brc</th>\n",
       "      <th>nature_of_business_brc</th>\n",
       "      <th>signature_footer</th>\n",
       "      <th>title_footer</th>\n",
       "      <th>date_of_signature_footer</th>\n",
       "      <th>contact_name_printed_brc</th>\n",
       "      <th>contact_phone_brc</th>\n",
       "    </tr>\n",
       "  </thead>\n",
       "  <tbody>\n",
       "    <tr>\n",
       "      <th>0</th>\n",
       "      <td>d08188b0-61f9-4e82-bb44-d2ca9e3f547d</td>\n",
       "      <td>None</td>\n",
       "      <td>None</td>\n",
       "      <td>None</td>\n",
       "      <td>Baranov</td>\n",
       "      <td>Jacqueline</td>\n",
       "      <td>None</td>\n",
       "      <td>761870877</td>\n",
       "      <td>500 east 77th street</td>\n",
       "      <td>01291971</td>\n",
       "      <td>...</td>\n",
       "      <td>None</td>\n",
       "      <td>None</td>\n",
       "      <td>None</td>\n",
       "      <td>None</td>\n",
       "      <td>None</td>\n",
       "      <td>None</td>\n",
       "      <td>None</td>\n",
       "      <td>None</td>\n",
       "      <td>None</td>\n",
       "      <td>None</td>\n",
       "    </tr>\n",
       "    <tr>\n",
       "      <th>1</th>\n",
       "      <td>fcc83438-4a34-47ad-adc8-52d7be146434</td>\n",
       "      <td>None</td>\n",
       "      <td>None</td>\n",
       "      <td>None</td>\n",
       "      <td>Burton</td>\n",
       "      <td>Cliffton</td>\n",
       "      <td>None</td>\n",
       "      <td>192837465</td>\n",
       "      <td>54 Longfellow St Apt 1986</td>\n",
       "      <td>02101962</td>\n",
       "      <td>...</td>\n",
       "      <td>None</td>\n",
       "      <td>None</td>\n",
       "      <td>None</td>\n",
       "      <td>None</td>\n",
       "      <td>None</td>\n",
       "      <td>None</td>\n",
       "      <td>None</td>\n",
       "      <td>02112021</td>\n",
       "      <td>Rachel Adams</td>\n",
       "      <td>None</td>\n",
       "    </tr>\n",
       "    <tr>\n",
       "      <th>2</th>\n",
       "      <td>186b1728-d9e9-4a89-8286-1a66b0d56ab0</td>\n",
       "      <td>None</td>\n",
       "      <td>None</td>\n",
       "      <td>None</td>\n",
       "      <td>Abowd</td>\n",
       "      <td>Daniel</td>\n",
       "      <td>None</td>\n",
       "      <td>171363880</td>\n",
       "      <td>10-30 Jackson Ave.</td>\n",
       "      <td>05301970</td>\n",
       "      <td>...</td>\n",
       "      <td>None</td>\n",
       "      <td>None</td>\n",
       "      <td>None</td>\n",
       "      <td>None</td>\n",
       "      <td>None</td>\n",
       "      <td>None</td>\n",
       "      <td>None</td>\n",
       "      <td>None</td>\n",
       "      <td>None</td>\n",
       "      <td>None</td>\n",
       "    </tr>\n",
       "    <tr>\n",
       "      <th>3</th>\n",
       "      <td>5f49c0a1-4d9e-468c-a2b1-6abe0b704ed4</td>\n",
       "      <td>None</td>\n",
       "      <td>None</td>\n",
       "      <td>None</td>\n",
       "      <td>Hetfield</td>\n",
       "      <td>James</td>\n",
       "      <td>None</td>\n",
       "      <td>111111115</td>\n",
       "      <td>415 North Grand Avenue</td>\n",
       "      <td>08031963</td>\n",
       "      <td>...</td>\n",
       "      <td>None</td>\n",
       "      <td>None</td>\n",
       "      <td>None</td>\n",
       "      <td>None</td>\n",
       "      <td>None</td>\n",
       "      <td>None</td>\n",
       "      <td>None</td>\n",
       "      <td>07111999</td>\n",
       "      <td>Venante Alcida</td>\n",
       "      <td>None</td>\n",
       "    </tr>\n",
       "    <tr>\n",
       "      <th>4</th>\n",
       "      <td>17513205-cff6-44c4-b7bf-447fb0a38d65</td>\n",
       "      <td>None</td>\n",
       "      <td>None</td>\n",
       "      <td>None</td>\n",
       "      <td>Hammett</td>\n",
       "      <td>Kirk</td>\n",
       "      <td>None</td>\n",
       "      <td>222222223</td>\n",
       "      <td>20 S. Green Hill Ave.</td>\n",
       "      <td>11181962</td>\n",
       "      <td>...</td>\n",
       "      <td>None</td>\n",
       "      <td>None</td>\n",
       "      <td>None</td>\n",
       "      <td>None</td>\n",
       "      <td>None</td>\n",
       "      <td>None</td>\n",
       "      <td>None</td>\n",
       "      <td>11222019</td>\n",
       "      <td>Ivan Alonzo</td>\n",
       "      <td>None</td>\n",
       "    </tr>\n",
       "  </tbody>\n",
       "</table>\n",
       "<p>5 rows × 68 columns</p>\n",
       "</div>"
      ],
      "text/plain": [
       "                                     id amends_prior_report  \\\n",
       "0  d08188b0-61f9-4e82-bb44-d2ca9e3f547d                None   \n",
       "1  fcc83438-4a34-47ad-adc8-52d7be146434                None   \n",
       "2  186b1728-d9e9-4a89-8286-1a66b0d56ab0                None   \n",
       "3  5f49c0a1-4d9e-468c-a2b1-6abe0b704ed4                None   \n",
       "4  17513205-cff6-44c4-b7bf-447fb0a38d65                None   \n",
       "\n",
       "  suspicious_transaction multiple_individuals last_name  first_name  \\\n",
       "0                   None                 None   Baranov  Jacqueline   \n",
       "1                   None                 None    Burton    Cliffton   \n",
       "2                   None                 None     Abowd      Daniel   \n",
       "3                   None                 None  Hetfield       James   \n",
       "4                   None                 None   Hammett        Kirk   \n",
       "\n",
       "  middle_initial        tin                    address       dob  ...  \\\n",
       "0           None  761870877       500 east 77th street  01291971  ...   \n",
       "1           None  192837465  54 Longfellow St Apt 1986  02101962  ...   \n",
       "2           None  171363880         10-30 Jackson Ave.  05301970  ...   \n",
       "3           None  111111115     415 North Grand Avenue  08031963  ...   \n",
       "4           None  222222223      20 S. Green Hill Ave.  11181962  ...   \n",
       "\n",
       "  address_brc city_brc state_brc zip_code_brc nature_of_business_brc  \\\n",
       "0        None     None      None         None                   None   \n",
       "1        None     None      None         None                   None   \n",
       "2        None     None      None         None                   None   \n",
       "3        None     None      None         None                   None   \n",
       "4        None     None      None         None                   None   \n",
       "\n",
       "  signature_footer title_footer date_of_signature_footer  \\\n",
       "0             None         None                     None   \n",
       "1             None         None                 02112021   \n",
       "2             None         None                     None   \n",
       "3             None         None                 07111999   \n",
       "4             None         None                 11222019   \n",
       "\n",
       "  contact_name_printed_brc contact_phone_brc  \n",
       "0                     None              None  \n",
       "1             Rachel Adams              None  \n",
       "2                     None              None  \n",
       "3           Venante Alcida              None  \n",
       "4              Ivan Alonzo              None  \n",
       "\n",
       "[5 rows x 68 columns]"
      ]
     },
     "execution_count": 8,
     "metadata": {},
     "output_type": "execute_result"
    }
   ],
   "source": [
    "df.head()"
   ]
  },
  {
   "cell_type": "code",
   "execution_count": 9,
   "id": "bizarre-plant",
   "metadata": {},
   "outputs": [],
   "source": [
    "from src.sources.data_source import DataSource\n",
    "fincen = DataSource(df)"
   ]
  },
  {
   "cell_type": "markdown",
   "id": "central-paragraph",
   "metadata": {},
   "source": [
    "# Read golden data into data source"
   ]
  },
  {
   "cell_type": "code",
   "execution_count": 10,
   "id": "motivated-kuwait",
   "metadata": {},
   "outputs": [
    {
     "name": "stderr",
     "output_type": "stream",
     "text": [
      "[20/03/2021 02:18:42] [    INFO] [sqlalchemy.engine.base.Engine] [_execute_context():1235] [PID:160 TID:140691405354816] -> select version()\n",
      "[20/03/2021 02:18:42] [    INFO] [sqlalchemy.engine.base.Engine] [_execute_context():1240] [PID:160 TID:140691405354816] -> {}\n",
      "[20/03/2021 02:18:42] [    INFO] [sqlalchemy.engine.base.Engine] [_execute_context():1235] [PID:160 TID:140691405354816] -> select current_schema()\n",
      "[20/03/2021 02:18:42] [    INFO] [sqlalchemy.engine.base.Engine] [_execute_context():1240] [PID:160 TID:140691405354816] -> {}\n",
      "[20/03/2021 02:18:42] [    INFO] [sqlalchemy.engine.base.Engine] [_cursor_execute():1341] [PID:160 TID:140691405354816] -> SELECT CAST('test plain returns' AS VARCHAR(60)) AS anon_1\n",
      "[20/03/2021 02:18:42] [    INFO] [sqlalchemy.engine.base.Engine] [_cursor_execute():1342] [PID:160 TID:140691405354816] -> {}\n",
      "[20/03/2021 02:18:42] [    INFO] [sqlalchemy.engine.base.Engine] [_cursor_execute():1341] [PID:160 TID:140691405354816] -> SELECT CAST('test unicode returns' AS VARCHAR(60)) AS anon_1\n",
      "[20/03/2021 02:18:42] [    INFO] [sqlalchemy.engine.base.Engine] [_cursor_execute():1342] [PID:160 TID:140691405354816] -> {}\n",
      "[20/03/2021 02:18:42] [    INFO] [sqlalchemy.engine.base.Engine] [_execute_context():1235] [PID:160 TID:140691405354816] -> show standard_conforming_strings\n",
      "[20/03/2021 02:18:42] [    INFO] [sqlalchemy.engine.base.Engine] [_execute_context():1240] [PID:160 TID:140691405354816] -> {}\n",
      "[20/03/2021 02:18:42] [    INFO] [sqlalchemy.engine.base.Engine] [_execute_context():1235] [PID:160 TID:140691405354816] -> SELECT * from audit.golden_person\n",
      "[20/03/2021 02:18:42] [    INFO] [sqlalchemy.engine.base.Engine] [_execute_context():1240] [PID:160 TID:140691405354816] -> {}\n"
     ]
    }
   ],
   "source": [
    "db = DbQuery(DatabaseEnum.ITACT_INGESTION_DB)\n",
    "result = db.execute(\"SELECT * from audit.golden_person\")"
   ]
  },
  {
   "cell_type": "code",
   "execution_count": 18,
   "id": "floating-tissue",
   "metadata": {},
   "outputs": [],
   "source": [
    "df_golden = DataFrame(result.fetchall())\n",
    "df_golden.columns = result.keys()\n",
    "golden = DataSource(df_golden)"
   ]
  },
  {
   "cell_type": "markdown",
   "id": "quality-capital",
   "metadata": {},
   "source": [
    "# Map the columns"
   ]
  },
  {
   "cell_type": "code",
   "execution_count": 20,
   "id": "promising-flush",
   "metadata": {},
   "outputs": [],
   "source": [
    "# equivalent to _process_structured\n",
    "\n",
    "from src.sources.structured_data_source import StructuredDataSource\n",
    "from src.mapping.pdfs.pdf_field_name_classifier import FieldNameClassifier\n",
    "from src.mapping.pdfs.pdf_field_label_catalog import FieldLabelCatalog\n",
    "from src.mapping.pdfs.pseudofield_generator import PseudofieldGenerator\n",
    "\n",
    "pseudofield_generator = PseudofieldGenerator(fincen)\n",
    "pseudofield_generator.generate()\n"
   ]
  },
  {
   "cell_type": "code",
   "execution_count": 28,
   "id": "verified-symbol",
   "metadata": {},
   "outputs": [],
   "source": [
    "# equivalent to _create_column_relations_for\n",
    "def _create_column_relations_for(source, target):\n",
    "    \"\"\"Create column relations from canonical column identifiers.\"\"\"\n",
    "    gold_id_info = FieldNameClassifier.get_id_info_from_df(target.get_data())\n",
    "    data_id_info = FieldNameClassifier.get_id_info_from_df(source.get_data())\n",
    "    for identifier in FieldLabelCatalog:\n",
    "        if identifier in gold_id_info and identifier in data_id_info:\n",
    "            g_id = gold_id_info[identifier]\n",
    "            d_id = data_id_info[identifier]\n",
    "            source.create_column_relation(\n",
    "                d_id.field_name, g_id.field_name, target\n",
    "            )\n",
    "            print(\n",
    "                \"New relation detected: %s\" % str(source.column_relations[-1])\n",
    "            )"
   ]
  },
  {
   "cell_type": "code",
   "execution_count": 29,
   "id": "sized-three",
   "metadata": {},
   "outputs": [
    {
     "name": "stdout",
     "output_type": "stream",
     "text": [
      "New relation detected: tin -> pandas DataFrame (hash -7182352771501649532): ssn (1.00 conf)\n"
     ]
    }
   ],
   "source": [
    "_create_column_relations_for(fincen, golden)"
   ]
  },
  {
   "cell_type": "markdown",
   "id": "median-kitty",
   "metadata": {},
   "source": [
    "# Find Mappings"
   ]
  },
  {
   "cell_type": "code",
   "execution_count": 42,
   "id": "tired-spending",
   "metadata": {},
   "outputs": [],
   "source": [
    "from src.mapping.rows.row_mapping_configuration import RowMappingConfiguration\n",
    "from src.mapping.values.value_matching_configuration import ValueMatchingConfiguration"
   ]
  },
  {
   "cell_type": "code",
   "execution_count": 35,
   "id": "ready-livestock",
   "metadata": {},
   "outputs": [],
   "source": [
    "import json\n",
    "def load_config(path):\n",
    "        \"\"\"\n",
    "        Read JSON from a filepath\n",
    "        \"\"\"\n",
    "        with open(path, \"r\") as F:\n",
    "            return json.load(F)"
   ]
  },
  {
   "cell_type": "code",
   "execution_count": 43,
   "id": "arabic-active",
   "metadata": {},
   "outputs": [],
   "source": [
    "value_matching_config_json = load_config('../config/mapping/levenshtein_default.json')\n",
    "row_mapping_config_json = load_config('../config/mapping/weighted_linear_default.json')\n",
    "value_matching_config = ValueMatchingConfiguration(**value_matching_config_json)\n",
    "row_mapping_config = RowMappingConfiguration(**row_mapping_config_json)"
   ]
  },
  {
   "cell_type": "code",
   "execution_count": 44,
   "id": "configured-arthritis",
   "metadata": {},
   "outputs": [],
   "source": [
    "fincen.map_rows_to(\n",
    "    golden, value_matching_config, row_mapping_config\n",
    ")\n"
   ]
  },
  {
   "cell_type": "code",
   "execution_count": 57,
   "id": "religious-motivation",
   "metadata": {},
   "outputs": [],
   "source": [
    "import pandas as pd\n",
    "def _generate_structured_row_matches(source, golden):\n",
    "        \"\"\"Generate structured row matches.\"\"\"\n",
    "        rows = {\n",
    "            \"first_name\": [],\n",
    "            \"last_name\": [],\n",
    "            \"ssn\": [],\n",
    "            \"pdf_document_type\": [],\n",
    "        }\n",
    "        target_df = golden.get_data()\n",
    "        for relation in source.row_relations:\n",
    "            source_index = relation.source_index\n",
    "            target_index = relation.target_index\n",
    "            source_row = source.get_data().iloc[source_index]\n",
    "            target_row = golden.get_data().iloc[target_index]\n",
    "            rows[\"first_name\"].append(source_row.first_name)\n",
    "            rows[\"last_name\"].append(source_row.last_name)\n",
    "            rows[\"ssn\"].append(target_row.ssn)\n",
    "            rows[\"pdf_document_type\"].append('fincen')\n",
    "        return pd.DataFrame(rows)"
   ]
  },
  {
   "cell_type": "code",
   "execution_count": 58,
   "id": "buried-tracker",
   "metadata": {},
   "outputs": [],
   "source": [
    "results_df = _generate_structured_row_matches(fincen, golden)"
   ]
  },
  {
   "cell_type": "code",
   "execution_count": 49,
   "id": "following-awareness",
   "metadata": {},
   "outputs": [],
   "source": [
    "r = fincen.row_relations"
   ]
  },
  {
   "cell_type": "code",
   "execution_count": 52,
   "id": "deluxe-lodging",
   "metadata": {},
   "outputs": [
    {
     "data": {
      "text/plain": [
       "'Daniel'"
      ]
     },
     "execution_count": 52,
     "metadata": {},
     "output_type": "execute_result"
    }
   ],
   "source": [
    "fincen.get_data().iloc[2].first_name\n"
   ]
  },
  {
   "cell_type": "code",
   "execution_count": 59,
   "id": "incident-relations",
   "metadata": {},
   "outputs": [
    {
     "data": {
      "text/html": [
       "<div>\n",
       "<style scoped>\n",
       "    .dataframe tbody tr th:only-of-type {\n",
       "        vertical-align: middle;\n",
       "    }\n",
       "\n",
       "    .dataframe tbody tr th {\n",
       "        vertical-align: top;\n",
       "    }\n",
       "\n",
       "    .dataframe thead th {\n",
       "        text-align: right;\n",
       "    }\n",
       "</style>\n",
       "<table border=\"1\" class=\"dataframe\">\n",
       "  <thead>\n",
       "    <tr style=\"text-align: right;\">\n",
       "      <th></th>\n",
       "      <th>first_name</th>\n",
       "      <th>last_name</th>\n",
       "      <th>ssn</th>\n",
       "      <th>pdf_document_type</th>\n",
       "    </tr>\n",
       "  </thead>\n",
       "  <tbody>\n",
       "    <tr>\n",
       "      <th>0</th>\n",
       "      <td>Jacqueline</td>\n",
       "      <td>Baranov</td>\n",
       "      <td>761870877</td>\n",
       "      <td>fincen</td>\n",
       "    </tr>\n",
       "    <tr>\n",
       "      <th>1</th>\n",
       "      <td>Daniel</td>\n",
       "      <td>Abowd</td>\n",
       "      <td>171363880</td>\n",
       "      <td>fincen</td>\n",
       "    </tr>\n",
       "    <tr>\n",
       "      <th>2</th>\n",
       "      <td>Martin</td>\n",
       "      <td>Volinsky</td>\n",
       "      <td>107292414</td>\n",
       "      <td>fincen</td>\n",
       "    </tr>\n",
       "    <tr>\n",
       "      <th>3</th>\n",
       "      <td>Nataly</td>\n",
       "      <td>Romero</td>\n",
       "      <td>293754712</td>\n",
       "      <td>fincen</td>\n",
       "    </tr>\n",
       "    <tr>\n",
       "      <th>4</th>\n",
       "      <td>Cerena</td>\n",
       "      <td>Rodriquez</td>\n",
       "      <td>550136294</td>\n",
       "      <td>fincen</td>\n",
       "    </tr>\n",
       "  </tbody>\n",
       "</table>\n",
       "</div>"
      ],
      "text/plain": [
       "   first_name  last_name        ssn pdf_document_type\n",
       "0  Jacqueline    Baranov  761870877            fincen\n",
       "1      Daniel      Abowd  171363880            fincen\n",
       "2      Martin   Volinsky  107292414            fincen\n",
       "3      Nataly     Romero  293754712            fincen\n",
       "4      Cerena  Rodriquez  550136294            fincen"
      ]
     },
     "execution_count": 59,
     "metadata": {},
     "output_type": "execute_result"
    }
   ],
   "source": [
    "results_df.head()"
   ]
  },
  {
   "cell_type": "markdown",
   "id": "regular-auditor",
   "metadata": {},
   "source": [
    "# Write final dataframe to Main database"
   ]
  },
  {
   "cell_type": "code",
   "execution_count": null,
   "id": "universal-chicken",
   "metadata": {},
   "outputs": [],
   "source": []
  }
 ],
 "metadata": {
  "kernelspec": {
   "display_name": "Python 3",
   "language": "python",
   "name": "python3"
  },
  "language_info": {
   "codemirror_mode": {
    "name": "ipython",
    "version": 3
   },
   "file_extension": ".py",
   "mimetype": "text/x-python",
   "name": "python",
   "nbconvert_exporter": "python",
   "pygments_lexer": "ipython3",
   "version": "3.7.7"
  }
 },
 "nbformat": 4,
 "nbformat_minor": 5
}
