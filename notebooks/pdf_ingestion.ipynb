{
 "cells": [
  {
   "cell_type": "code",
   "execution_count": 1,
   "id": "private-transaction",
   "metadata": {},
   "outputs": [
    {
     "name": "stdout",
     "output_type": "stream",
     "text": [
      "/workspace/notebooks\r\n"
     ]
    }
   ],
   "source": [
    "!pwd\n",
    "import sys\n",
    "sys.path.append('/workspace')\n"
   ]
  },
  {
   "cell_type": "code",
   "execution_count": 2,
   "id": "headed-uzbekistan",
   "metadata": {},
   "outputs": [
    {
     "name": "stderr",
     "output_type": "stream",
     "text": [
      "[21/03/2021 20:58:51] [    INFO] [dotenv.main] [_get_stream():77] [PID:99 TID:140612221933376] -> Python-dotenv could not find configuration file /workspace/src/core/env/.local.env.local.\n"
     ]
    }
   ],
   "source": [
    "from src.core.db.config import DatabaseEnum\n",
    "from src.core.db.models.pdf_models import Fincen8300Rev4\n",
    "from src.core.db.models.main_models import EmployeeToDocument\n",
    "from src.core.db.session import DBContext, DbQuery"
   ]
  },
  {
   "cell_type": "markdown",
   "id": "administrative-berry",
   "metadata": {},
   "source": [
    "# Read the pdf data into a data source"
   ]
  },
  {
   "cell_type": "code",
   "execution_count": 3,
   "id": "intermediate-latvia",
   "metadata": {},
   "outputs": [
    {
     "name": "stderr",
     "output_type": "stream",
     "text": [
      "[21/03/2021 20:58:51] [    INFO] [sqlalchemy.engine.base.Engine] [_execute_context():1235] [PID:99 TID:140612221933376] -> select version()\n",
      "[21/03/2021 20:58:51] [    INFO] [sqlalchemy.engine.base.Engine] [_execute_context():1240] [PID:99 TID:140612221933376] -> {}\n",
      "[21/03/2021 20:58:51] [    INFO] [sqlalchemy.engine.base.Engine] [_execute_context():1235] [PID:99 TID:140612221933376] -> select current_schema()\n",
      "[21/03/2021 20:58:51] [    INFO] [sqlalchemy.engine.base.Engine] [_execute_context():1240] [PID:99 TID:140612221933376] -> {}\n",
      "[21/03/2021 20:58:51] [    INFO] [sqlalchemy.engine.base.Engine] [_cursor_execute():1341] [PID:99 TID:140612221933376] -> SELECT CAST('test plain returns' AS VARCHAR(60)) AS anon_1\n",
      "[21/03/2021 20:58:51] [    INFO] [sqlalchemy.engine.base.Engine] [_cursor_execute():1342] [PID:99 TID:140612221933376] -> {}\n",
      "[21/03/2021 20:58:51] [    INFO] [sqlalchemy.engine.base.Engine] [_cursor_execute():1341] [PID:99 TID:140612221933376] -> SELECT CAST('test unicode returns' AS VARCHAR(60)) AS anon_1\n",
      "[21/03/2021 20:58:51] [    INFO] [sqlalchemy.engine.base.Engine] [_cursor_execute():1342] [PID:99 TID:140612221933376] -> {}\n",
      "[21/03/2021 20:58:51] [    INFO] [sqlalchemy.engine.base.Engine] [_execute_context():1235] [PID:99 TID:140612221933376] -> show standard_conforming_strings\n",
      "[21/03/2021 20:58:51] [    INFO] [sqlalchemy.engine.base.Engine] [_execute_context():1240] [PID:99 TID:140612221933376] -> {}\n",
      "[21/03/2021 20:58:51] [    INFO] [sqlalchemy.engine.base.Engine] [_execute_context():1235] [PID:99 TID:140612221933376] -> SELECT * from public.fincen8300_rev4\n",
      "[21/03/2021 20:58:51] [    INFO] [sqlalchemy.engine.base.Engine] [_execute_context():1240] [PID:99 TID:140612221933376] -> {}\n"
     ]
    }
   ],
   "source": [
    "db = DbQuery(DatabaseEnum.PDF_INGESTION_DB)\n",
    "result = db.execute(\"SELECT * from public.fincen8300_rev4\")\n"
   ]
  },
  {
   "cell_type": "code",
   "execution_count": 4,
   "id": "selected-number",
   "metadata": {},
   "outputs": [
    {
     "data": {
      "text/plain": [
       "sqlalchemy.engine.result.ResultProxy"
      ]
     },
     "execution_count": 4,
     "metadata": {},
     "output_type": "execute_result"
    }
   ],
   "source": [
    "type(result)"
   ]
  },
  {
   "cell_type": "code",
   "execution_count": 5,
   "id": "acceptable-muslim",
   "metadata": {},
   "outputs": [],
   "source": [
    "from pandas import DataFrame\n",
    "df = DataFrame(result.fetchall())\n",
    "df.columns = result.keys()"
   ]
  },
  {
   "cell_type": "code",
   "execution_count": 6,
   "id": "documentary-registrar",
   "metadata": {
    "scrolled": true
   },
   "outputs": [
    {
     "data": {
      "text/html": [
       "<div>\n",
       "<style scoped>\n",
       "    .dataframe tbody tr th:only-of-type {\n",
       "        vertical-align: middle;\n",
       "    }\n",
       "\n",
       "    .dataframe tbody tr th {\n",
       "        vertical-align: top;\n",
       "    }\n",
       "\n",
       "    .dataframe thead th {\n",
       "        text-align: right;\n",
       "    }\n",
       "</style>\n",
       "<table border=\"1\" class=\"dataframe\">\n",
       "  <thead>\n",
       "    <tr style=\"text-align: right;\">\n",
       "      <th></th>\n",
       "      <th>id</th>\n",
       "      <th>amends_prior_report</th>\n",
       "      <th>suspicious_transaction</th>\n",
       "      <th>multiple_individuals</th>\n",
       "      <th>last_name</th>\n",
       "      <th>first_name</th>\n",
       "      <th>middle_initial</th>\n",
       "      <th>tin</th>\n",
       "      <th>address</th>\n",
       "      <th>dob</th>\n",
       "      <th>...</th>\n",
       "      <th>address_brc</th>\n",
       "      <th>city_brc</th>\n",
       "      <th>state_brc</th>\n",
       "      <th>zip_code_brc</th>\n",
       "      <th>nature_of_business_brc</th>\n",
       "      <th>signature_footer</th>\n",
       "      <th>title_footer</th>\n",
       "      <th>date_of_signature_footer</th>\n",
       "      <th>contact_name_printed_brc</th>\n",
       "      <th>contact_phone_brc</th>\n",
       "    </tr>\n",
       "  </thead>\n",
       "  <tbody>\n",
       "    <tr>\n",
       "      <th>0</th>\n",
       "      <td>d08188b0-61f9-4e82-bb44-d2ca9e3f547d</td>\n",
       "      <td>None</td>\n",
       "      <td>None</td>\n",
       "      <td>None</td>\n",
       "      <td>Baranov</td>\n",
       "      <td>Jacqueline</td>\n",
       "      <td>None</td>\n",
       "      <td>761870877</td>\n",
       "      <td>500 east 77th street</td>\n",
       "      <td>01291971</td>\n",
       "      <td>...</td>\n",
       "      <td>None</td>\n",
       "      <td>None</td>\n",
       "      <td>None</td>\n",
       "      <td>None</td>\n",
       "      <td>None</td>\n",
       "      <td>None</td>\n",
       "      <td>None</td>\n",
       "      <td>None</td>\n",
       "      <td>None</td>\n",
       "      <td>None</td>\n",
       "    </tr>\n",
       "    <tr>\n",
       "      <th>1</th>\n",
       "      <td>fcc83438-4a34-47ad-adc8-52d7be146434</td>\n",
       "      <td>None</td>\n",
       "      <td>None</td>\n",
       "      <td>None</td>\n",
       "      <td>Burton</td>\n",
       "      <td>Cliffton</td>\n",
       "      <td>None</td>\n",
       "      <td>192837465</td>\n",
       "      <td>54 Longfellow St Apt 1986</td>\n",
       "      <td>02101962</td>\n",
       "      <td>...</td>\n",
       "      <td>None</td>\n",
       "      <td>None</td>\n",
       "      <td>None</td>\n",
       "      <td>None</td>\n",
       "      <td>None</td>\n",
       "      <td>None</td>\n",
       "      <td>None</td>\n",
       "      <td>02112021</td>\n",
       "      <td>Rachel Adams</td>\n",
       "      <td>None</td>\n",
       "    </tr>\n",
       "    <tr>\n",
       "      <th>2</th>\n",
       "      <td>186b1728-d9e9-4a89-8286-1a66b0d56ab0</td>\n",
       "      <td>None</td>\n",
       "      <td>None</td>\n",
       "      <td>None</td>\n",
       "      <td>Abowd</td>\n",
       "      <td>Daniel</td>\n",
       "      <td>None</td>\n",
       "      <td>171363880</td>\n",
       "      <td>10-30 Jackson Ave.</td>\n",
       "      <td>05301970</td>\n",
       "      <td>...</td>\n",
       "      <td>None</td>\n",
       "      <td>None</td>\n",
       "      <td>None</td>\n",
       "      <td>None</td>\n",
       "      <td>None</td>\n",
       "      <td>None</td>\n",
       "      <td>None</td>\n",
       "      <td>None</td>\n",
       "      <td>None</td>\n",
       "      <td>None</td>\n",
       "    </tr>\n",
       "    <tr>\n",
       "      <th>3</th>\n",
       "      <td>5f49c0a1-4d9e-468c-a2b1-6abe0b704ed4</td>\n",
       "      <td>None</td>\n",
       "      <td>None</td>\n",
       "      <td>None</td>\n",
       "      <td>Hetfield</td>\n",
       "      <td>James</td>\n",
       "      <td>None</td>\n",
       "      <td>111111115</td>\n",
       "      <td>415 North Grand Avenue</td>\n",
       "      <td>08031963</td>\n",
       "      <td>...</td>\n",
       "      <td>None</td>\n",
       "      <td>None</td>\n",
       "      <td>None</td>\n",
       "      <td>None</td>\n",
       "      <td>None</td>\n",
       "      <td>None</td>\n",
       "      <td>None</td>\n",
       "      <td>07111999</td>\n",
       "      <td>Venante Alcida</td>\n",
       "      <td>None</td>\n",
       "    </tr>\n",
       "    <tr>\n",
       "      <th>4</th>\n",
       "      <td>17513205-cff6-44c4-b7bf-447fb0a38d65</td>\n",
       "      <td>None</td>\n",
       "      <td>None</td>\n",
       "      <td>None</td>\n",
       "      <td>Hammett</td>\n",
       "      <td>Kirk</td>\n",
       "      <td>None</td>\n",
       "      <td>222222223</td>\n",
       "      <td>20 S. Green Hill Ave.</td>\n",
       "      <td>11181962</td>\n",
       "      <td>...</td>\n",
       "      <td>None</td>\n",
       "      <td>None</td>\n",
       "      <td>None</td>\n",
       "      <td>None</td>\n",
       "      <td>None</td>\n",
       "      <td>None</td>\n",
       "      <td>None</td>\n",
       "      <td>11222019</td>\n",
       "      <td>Ivan Alonzo</td>\n",
       "      <td>None</td>\n",
       "    </tr>\n",
       "  </tbody>\n",
       "</table>\n",
       "<p>5 rows × 68 columns</p>\n",
       "</div>"
      ],
      "text/plain": [
       "                                     id amends_prior_report  \\\n",
       "0  d08188b0-61f9-4e82-bb44-d2ca9e3f547d                None   \n",
       "1  fcc83438-4a34-47ad-adc8-52d7be146434                None   \n",
       "2  186b1728-d9e9-4a89-8286-1a66b0d56ab0                None   \n",
       "3  5f49c0a1-4d9e-468c-a2b1-6abe0b704ed4                None   \n",
       "4  17513205-cff6-44c4-b7bf-447fb0a38d65                None   \n",
       "\n",
       "  suspicious_transaction multiple_individuals last_name  first_name  \\\n",
       "0                   None                 None   Baranov  Jacqueline   \n",
       "1                   None                 None    Burton    Cliffton   \n",
       "2                   None                 None     Abowd      Daniel   \n",
       "3                   None                 None  Hetfield       James   \n",
       "4                   None                 None   Hammett        Kirk   \n",
       "\n",
       "  middle_initial        tin                    address       dob  ...  \\\n",
       "0           None  761870877       500 east 77th street  01291971  ...   \n",
       "1           None  192837465  54 Longfellow St Apt 1986  02101962  ...   \n",
       "2           None  171363880         10-30 Jackson Ave.  05301970  ...   \n",
       "3           None  111111115     415 North Grand Avenue  08031963  ...   \n",
       "4           None  222222223      20 S. Green Hill Ave.  11181962  ...   \n",
       "\n",
       "  address_brc city_brc state_brc zip_code_brc nature_of_business_brc  \\\n",
       "0        None     None      None         None                   None   \n",
       "1        None     None      None         None                   None   \n",
       "2        None     None      None         None                   None   \n",
       "3        None     None      None         None                   None   \n",
       "4        None     None      None         None                   None   \n",
       "\n",
       "  signature_footer title_footer date_of_signature_footer  \\\n",
       "0             None         None                     None   \n",
       "1             None         None                 02112021   \n",
       "2             None         None                     None   \n",
       "3             None         None                 07111999   \n",
       "4             None         None                 11222019   \n",
       "\n",
       "  contact_name_printed_brc contact_phone_brc  \n",
       "0                     None              None  \n",
       "1             Rachel Adams              None  \n",
       "2                     None              None  \n",
       "3           Venante Alcida              None  \n",
       "4              Ivan Alonzo              None  \n",
       "\n",
       "[5 rows x 68 columns]"
      ]
     },
     "execution_count": 6,
     "metadata": {},
     "output_type": "execute_result"
    }
   ],
   "source": [
    "df.head()"
   ]
  },
  {
   "cell_type": "code",
   "execution_count": 7,
   "id": "circular-ordering",
   "metadata": {},
   "outputs": [
    {
     "data": {
      "text/plain": [
       "Index(['id', 'amends_prior_report', 'suspicious_transaction',\n",
       "       'multiple_individuals', 'last_name', 'first_name', 'middle_initial',\n",
       "       'tin', 'address', 'dob', 'city', 'state', 'zip', 'country',\n",
       "       'occ_prof_bus', 'identdoc_describe', 'identdoc_issued_by',\n",
       "       'identdoc_number', 'multiple_behalf', 'last_name_org_name_behalf',\n",
       "       'first_name_behalf', 'middle_initial_behalf', 'tin_behalf',\n",
       "       'dba_behalf', 'address_behalf', 'occ_prof_bus_behalf', 'city_behalf',\n",
       "       'state_behalf', 'zip_behalf', 'country_behalf',\n",
       "       'identdoc_describe_behalf', 'identdoc_issued_by_behalf',\n",
       "       'identdoc_number_behalf', 'date_cash_received', 'total_cash_received',\n",
       "       'cash_received_mult_pmts', 'total_price', 'usde_us_currency',\n",
       "       'usde_amt_benj_higher', 'usde_foreign_currency',\n",
       "       'foreign_currency_country', 'usde_cashiers_checks', 'usde_money_orders',\n",
       "       'usde_bank_drafts', 'usde_travelers_checks', 'type_ot_personal_prop',\n",
       "       'type_ot_real_property', 'type_ot_personal_services',\n",
       "       'type_ot_business_services', 'type_ot_intangible_property',\n",
       "       'type_ot_debt_obligations_paid', 'type_ot_exchange_of_cash',\n",
       "       'type_ot_escrow_or_trust_funds', 'type_ot_bail_received',\n",
       "       'type_ot_other', 'specific_description_of_property',\n",
       "       'business_name_brc', 'ein_brc', 'address_brc', 'city_brc', 'state_brc',\n",
       "       'zip_code_brc', 'nature_of_business_brc', 'signature_footer',\n",
       "       'title_footer', 'date_of_signature_footer', 'contact_name_printed_brc',\n",
       "       'contact_phone_brc'],\n",
       "      dtype='object')"
      ]
     },
     "execution_count": 7,
     "metadata": {},
     "output_type": "execute_result"
    }
   ],
   "source": [
    "df.columns"
   ]
  },
  {
   "cell_type": "code",
   "execution_count": 8,
   "id": "bizarre-plant",
   "metadata": {},
   "outputs": [],
   "source": [
    "from src.sources.data_source import DataSource\n",
    "fincen = DataSource(df)"
   ]
  },
  {
   "cell_type": "markdown",
   "id": "central-paragraph",
   "metadata": {},
   "source": [
    "# Read employee data into data source"
   ]
  },
  {
   "cell_type": "code",
   "execution_count": 9,
   "id": "motivated-kuwait",
   "metadata": {},
   "outputs": [
    {
     "name": "stderr",
     "output_type": "stream",
     "text": [
      "[21/03/2021 20:58:53] [    INFO] [sqlalchemy.engine.base.Engine] [_execute_context():1235] [PID:99 TID:140612221933376] -> select version()\n",
      "[21/03/2021 20:58:53] [    INFO] [sqlalchemy.engine.base.Engine] [_execute_context():1240] [PID:99 TID:140612221933376] -> {}\n",
      "[21/03/2021 20:58:53] [    INFO] [sqlalchemy.engine.base.Engine] [_execute_context():1235] [PID:99 TID:140612221933376] -> select current_schema()\n",
      "[21/03/2021 20:58:53] [    INFO] [sqlalchemy.engine.base.Engine] [_execute_context():1240] [PID:99 TID:140612221933376] -> {}\n",
      "[21/03/2021 20:58:53] [    INFO] [sqlalchemy.engine.base.Engine] [_cursor_execute():1341] [PID:99 TID:140612221933376] -> SELECT CAST('test plain returns' AS VARCHAR(60)) AS anon_1\n",
      "[21/03/2021 20:58:53] [    INFO] [sqlalchemy.engine.base.Engine] [_cursor_execute():1342] [PID:99 TID:140612221933376] -> {}\n",
      "[21/03/2021 20:58:53] [    INFO] [sqlalchemy.engine.base.Engine] [_cursor_execute():1341] [PID:99 TID:140612221933376] -> SELECT CAST('test unicode returns' AS VARCHAR(60)) AS anon_1\n",
      "[21/03/2021 20:58:53] [    INFO] [sqlalchemy.engine.base.Engine] [_cursor_execute():1342] [PID:99 TID:140612221933376] -> {}\n",
      "[21/03/2021 20:58:53] [    INFO] [sqlalchemy.engine.base.Engine] [_execute_context():1235] [PID:99 TID:140612221933376] -> show standard_conforming_strings\n",
      "[21/03/2021 20:58:53] [    INFO] [sqlalchemy.engine.base.Engine] [_execute_context():1240] [PID:99 TID:140612221933376] -> {}\n",
      "[21/03/2021 20:58:53] [    INFO] [sqlalchemy.engine.base.Engine] [_execute_context():1235] [PID:99 TID:140612221933376] -> SELECT * from public.employee\n",
      "[21/03/2021 20:58:53] [    INFO] [sqlalchemy.engine.base.Engine] [_execute_context():1240] [PID:99 TID:140612221933376] -> {}\n"
     ]
    }
   ],
   "source": [
    "db = DbQuery(DatabaseEnum.MAIN_INGESTION_DB)\n",
    "result = db.execute(\"SELECT * from public.employee\")"
   ]
  },
  {
   "cell_type": "code",
   "execution_count": 10,
   "id": "operational-cherry",
   "metadata": {},
   "outputs": [
    {
     "name": "stdout",
     "output_type": "stream",
     "text": [
      "['id', 'prefix_name', 'first_name', 'last_name', 'middle_name', 'suffix_name', 'date_of_birth', 'dod_id']\n"
     ]
    }
   ],
   "source": [
    "print(result.keys())"
   ]
  },
  {
   "cell_type": "code",
   "execution_count": 11,
   "id": "floating-tissue",
   "metadata": {},
   "outputs": [
    {
     "data": {
      "text/html": [
       "<div>\n",
       "<style scoped>\n",
       "    .dataframe tbody tr th:only-of-type {\n",
       "        vertical-align: middle;\n",
       "    }\n",
       "\n",
       "    .dataframe tbody tr th {\n",
       "        vertical-align: top;\n",
       "    }\n",
       "\n",
       "    .dataframe thead th {\n",
       "        text-align: right;\n",
       "    }\n",
       "</style>\n",
       "<table border=\"1\" class=\"dataframe\">\n",
       "  <thead>\n",
       "    <tr style=\"text-align: right;\">\n",
       "      <th></th>\n",
       "      <th>id</th>\n",
       "      <th>prefix_name</th>\n",
       "      <th>first_name</th>\n",
       "      <th>last_name</th>\n",
       "      <th>middle_name</th>\n",
       "      <th>suffix_name</th>\n",
       "      <th>date_of_birth</th>\n",
       "      <th>dod_id</th>\n",
       "    </tr>\n",
       "  </thead>\n",
       "  <tbody>\n",
       "    <tr>\n",
       "      <th>0</th>\n",
       "      <td>c316a646-8955-489c-a685-6c2f5047a66d</td>\n",
       "      <td>None</td>\n",
       "      <td>Diane</td>\n",
       "      <td>Meier</td>\n",
       "      <td>None</td>\n",
       "      <td>Sr.</td>\n",
       "      <td>2057-02-28</td>\n",
       "      <td>7186</td>\n",
       "    </tr>\n",
       "    <tr>\n",
       "      <th>1</th>\n",
       "      <td>7dca02c2-d542-44ae-8b70-f63f3496f57e</td>\n",
       "      <td>Ms.</td>\n",
       "      <td>Samantha</td>\n",
       "      <td>Young</td>\n",
       "      <td>None</td>\n",
       "      <td>Sr.</td>\n",
       "      <td>1980-07-13</td>\n",
       "      <td>8955</td>\n",
       "    </tr>\n",
       "    <tr>\n",
       "      <th>2</th>\n",
       "      <td>6a47f014-f99b-4792-ac17-0ce1fb21965f</td>\n",
       "      <td>None</td>\n",
       "      <td>Adrian</td>\n",
       "      <td>Frandle</td>\n",
       "      <td>None</td>\n",
       "      <td>None</td>\n",
       "      <td>1982-12-20</td>\n",
       "      <td>5805</td>\n",
       "    </tr>\n",
       "    <tr>\n",
       "      <th>3</th>\n",
       "      <td>6a8926d7-8966-4ab8-b8ef-4bea2b6c334c</td>\n",
       "      <td>Ms.</td>\n",
       "      <td>Christine</td>\n",
       "      <td>Johnson</td>\n",
       "      <td>None</td>\n",
       "      <td>None</td>\n",
       "      <td>1991-04-07</td>\n",
       "      <td>6424</td>\n",
       "    </tr>\n",
       "    <tr>\n",
       "      <th>4</th>\n",
       "      <td>4600c711-f054-433a-b215-4ac5fbf72ccd</td>\n",
       "      <td>None</td>\n",
       "      <td>Kaisheng</td>\n",
       "      <td>Yao</td>\n",
       "      <td>None</td>\n",
       "      <td>Jr.</td>\n",
       "      <td>1972-02-17</td>\n",
       "      <td>8930</td>\n",
       "    </tr>\n",
       "  </tbody>\n",
       "</table>\n",
       "</div>"
      ],
      "text/plain": [
       "                                     id prefix_name first_name last_name  \\\n",
       "0  c316a646-8955-489c-a685-6c2f5047a66d        None      Diane     Meier   \n",
       "1  7dca02c2-d542-44ae-8b70-f63f3496f57e         Ms.   Samantha     Young   \n",
       "2  6a47f014-f99b-4792-ac17-0ce1fb21965f        None     Adrian   Frandle   \n",
       "3  6a8926d7-8966-4ab8-b8ef-4bea2b6c334c         Ms.  Christine   Johnson   \n",
       "4  4600c711-f054-433a-b215-4ac5fbf72ccd        None   Kaisheng       Yao   \n",
       "\n",
       "  middle_name suffix_name date_of_birth dod_id  \n",
       "0        None         Sr.    2057-02-28   7186  \n",
       "1        None         Sr.    1980-07-13   8955  \n",
       "2        None        None    1982-12-20   5805  \n",
       "3        None        None    1991-04-07   6424  \n",
       "4        None         Jr.    1972-02-17   8930  "
      ]
     },
     "execution_count": 11,
     "metadata": {},
     "output_type": "execute_result"
    }
   ],
   "source": [
    "df_employee = DataFrame(result.fetchall())\n",
    "df_employee.columns = result.keys()\n",
    "df_employee.head()"
   ]
  },
  {
   "cell_type": "code",
   "execution_count": 12,
   "id": "hispanic-vision",
   "metadata": {},
   "outputs": [],
   "source": [
    "employee = DataSource(df_employee)"
   ]
  },
  {
   "cell_type": "markdown",
   "id": "quality-capital",
   "metadata": {},
   "source": [
    "# Map the columns"
   ]
  },
  {
   "cell_type": "code",
   "execution_count": 13,
   "id": "promising-flush",
   "metadata": {},
   "outputs": [],
   "source": [
    "# equivalent to _process_structured\n",
    "\n",
    "from src.sources.structured_data_source import StructuredDataSource\n",
    "from src.mapping.pdfs.pdf_field_name_classifier import FieldNameClassifier\n",
    "from src.mapping.pdfs.pdf_field_label_catalog import FieldLabelCatalog\n",
    "from src.mapping.pdfs.pseudofield_generator import PseudofieldGenerator\n",
    "\n",
    "pseudofield_generator = PseudofieldGenerator(fincen)\n",
    "pseudofield_generator.generate()\n"
   ]
  },
  {
   "cell_type": "code",
   "execution_count": 14,
   "id": "verified-symbol",
   "metadata": {},
   "outputs": [],
   "source": [
    "# equivalent to _create_column_relations_for\n",
    "def _create_column_relations_for(source, target):\n",
    "    \"\"\"Create column relations from canonical column identifiers.\"\"\"\n",
    "    gold_id_info = FieldNameClassifier.get_id_info_from_df(target.get_data())\n",
    "    data_id_info = FieldNameClassifier.get_id_info_from_df(source.get_data())\n",
    "    for identifier in FieldLabelCatalog:\n",
    "        if identifier in gold_id_info and identifier in data_id_info:\n",
    "            g_id = gold_id_info[identifier]\n",
    "            d_id = data_id_info[identifier]\n",
    "            source.create_column_relation(\n",
    "                d_id.field_name, g_id.field_name, target\n",
    "            )\n",
    "            print(\n",
    "                \"New relation detected: %s\" % str(source.column_relations[-1])\n",
    "            )"
   ]
  },
  {
   "cell_type": "code",
   "execution_count": 15,
   "id": "sized-three",
   "metadata": {},
   "outputs": [
    {
     "name": "stdout",
     "output_type": "stream",
     "text": [
      "New relation detected: dob -> pandas DataFrame (hash 1661532706735119568): date_of_birth (1.00 conf)\n",
      "New relation detected: first_name -> pandas DataFrame (hash 1661532706735119568): first_name (1.00 conf)\n",
      "New relation detected: last_name -> pandas DataFrame (hash 1661532706735119568): last_name (1.00 conf)\n"
     ]
    }
   ],
   "source": [
    "_create_column_relations_for(fincen, employee)"
   ]
  },
  {
   "cell_type": "markdown",
   "id": "median-kitty",
   "metadata": {},
   "source": [
    "# Find Row Mappings"
   ]
  },
  {
   "cell_type": "code",
   "execution_count": 16,
   "id": "tired-spending",
   "metadata": {},
   "outputs": [],
   "source": [
    "from src.mapping.rows.row_mapping_configuration import RowMappingConfiguration\n",
    "from src.mapping.values.value_matching_configuration import ValueMatchingConfiguration"
   ]
  },
  {
   "cell_type": "code",
   "execution_count": 17,
   "id": "ready-livestock",
   "metadata": {},
   "outputs": [],
   "source": [
    "import json\n",
    "def load_config(path):\n",
    "        \"\"\"\n",
    "        Read JSON from a filepath\n",
    "        \"\"\"\n",
    "        with open(path, \"r\") as F:\n",
    "            return json.load(F)"
   ]
  },
  {
   "cell_type": "code",
   "execution_count": 25,
   "id": "arabic-active",
   "metadata": {},
   "outputs": [],
   "source": [
    "value_matching_config_json = load_config('../config/mapping/levenshtein_default.json')\n",
    "row_mapping_config_json = load_config('../config/mapping/weighted_linear_default.json')\n",
    "value_matching_config = ValueMatchingConfiguration(**value_matching_config_json)\n",
    "row_mapping_config = RowMappingConfiguration(**row_mapping_config_json)"
   ]
  },
  {
   "cell_type": "code",
   "execution_count": 26,
   "id": "domestic-stability",
   "metadata": {},
   "outputs": [
    {
     "name": "stdout",
     "output_type": "stream",
     "text": [
      "[ColumnRelation(target_data_source=pandas DataFrame (hash 1661532706735119568), source_column_name='dob', target_column_name='date_of_birth', confidence=1.0), ColumnRelation(target_data_source=pandas DataFrame (hash 1661532706735119568), source_column_name='first_name', target_column_name='first_name', confidence=1.0), ColumnRelation(target_data_source=pandas DataFrame (hash 1661532706735119568), source_column_name='last_name', target_column_name='last_name', confidence=1.0)]\n"
     ]
    }
   ],
   "source": [
    "x = fincen.get_column_relations()\n",
    "print(x)"
   ]
  },
  {
   "cell_type": "code",
   "execution_count": 27,
   "id": "configured-arthritis",
   "metadata": {},
   "outputs": [],
   "source": [
    "fincen.map_rows_to(\n",
    "    employee, value_matching_config, row_mapping_config\n",
    ")\n"
   ]
  },
  {
   "cell_type": "code",
   "execution_count": 21,
   "id": "religious-motivation",
   "metadata": {},
   "outputs": [],
   "source": [
    "import pandas as pd\n",
    "def _generate_structured_row_matches(source, employee):\n",
    "        \"\"\"Generate structured row matches.\"\"\"\n",
    "        rows = {\n",
    "            'first_name': [],  # just for sanity check\n",
    "            'last_name': [],   # just for sanity check  \n",
    "            'emp_uuid': [],\n",
    "            'doc_uuid': []\n",
    "        }\n",
    "        target_df = employee.get_data()\n",
    "        for relation in source.row_relations:\n",
    "            source_index = relation.source_index\n",
    "            target_index = relation.target_index\n",
    "            source_row = source.get_data().iloc[source_index]\n",
    "            target_row = employee.get_data().iloc[target_index]\n",
    "            rows['emp_uuid'].append(target_row.id)\n",
    "            rows[\"doc_uuid\"].append(source_row.id)\n",
    "            rows[\"first_name\"].append(source_row.first_name)\n",
    "            rows[\"last_name\"].append(source_row.last_name)\n",
    "        return pd.DataFrame(rows)"
   ]
  },
  {
   "cell_type": "code",
   "execution_count": 28,
   "id": "buried-tracker",
   "metadata": {},
   "outputs": [
    {
     "data": {
      "text/html": [
       "<div>\n",
       "<style scoped>\n",
       "    .dataframe tbody tr th:only-of-type {\n",
       "        vertical-align: middle;\n",
       "    }\n",
       "\n",
       "    .dataframe tbody tr th {\n",
       "        vertical-align: top;\n",
       "    }\n",
       "\n",
       "    .dataframe thead th {\n",
       "        text-align: right;\n",
       "    }\n",
       "</style>\n",
       "<table border=\"1\" class=\"dataframe\">\n",
       "  <thead>\n",
       "    <tr style=\"text-align: right;\">\n",
       "      <th></th>\n",
       "      <th>first_name</th>\n",
       "      <th>last_name</th>\n",
       "      <th>emp_uuid</th>\n",
       "      <th>doc_uuid</th>\n",
       "    </tr>\n",
       "  </thead>\n",
       "  <tbody>\n",
       "    <tr>\n",
       "      <th>0</th>\n",
       "      <td>Cerena</td>\n",
       "      <td>Rodriquez</td>\n",
       "      <td>7cca73ad-6adb-4898-a6c7-7e56835709ae</td>\n",
       "      <td>69d0a22e-8293-45d8-80be-bed167dff23b</td>\n",
       "    </tr>\n",
       "    <tr>\n",
       "      <th>1</th>\n",
       "      <td>Cerena</td>\n",
       "      <td>Rodriquez</td>\n",
       "      <td>dcb6fe17-6374-4aa2-aba0-9e0cf6acabcd</td>\n",
       "      <td>69d0a22e-8293-45d8-80be-bed167dff23b</td>\n",
       "    </tr>\n",
       "    <tr>\n",
       "      <th>2</th>\n",
       "      <td>Cerena</td>\n",
       "      <td>Rodriquez</td>\n",
       "      <td>4d25f9e3-4767-4ac2-9cbe-594cad8d8a6b</td>\n",
       "      <td>69d0a22e-8293-45d8-80be-bed167dff23b</td>\n",
       "    </tr>\n",
       "    <tr>\n",
       "      <th>3</th>\n",
       "      <td>Cerena</td>\n",
       "      <td>Rodriquez</td>\n",
       "      <td>04307592-b5f4-4ebb-be72-e8d9ad6e9785</td>\n",
       "      <td>69d0a22e-8293-45d8-80be-bed167dff23b</td>\n",
       "    </tr>\n",
       "    <tr>\n",
       "      <th>4</th>\n",
       "      <td>Cerena</td>\n",
       "      <td>Rodriquez</td>\n",
       "      <td>92067627-73f3-4b0d-8a04-ec46619b1df4</td>\n",
       "      <td>69d0a22e-8293-45d8-80be-bed167dff23b</td>\n",
       "    </tr>\n",
       "  </tbody>\n",
       "</table>\n",
       "</div>"
      ],
      "text/plain": [
       "  first_name  last_name                              emp_uuid  \\\n",
       "0     Cerena  Rodriquez  7cca73ad-6adb-4898-a6c7-7e56835709ae   \n",
       "1     Cerena  Rodriquez  dcb6fe17-6374-4aa2-aba0-9e0cf6acabcd   \n",
       "2     Cerena  Rodriquez  4d25f9e3-4767-4ac2-9cbe-594cad8d8a6b   \n",
       "3     Cerena  Rodriquez  04307592-b5f4-4ebb-be72-e8d9ad6e9785   \n",
       "4     Cerena  Rodriquez  92067627-73f3-4b0d-8a04-ec46619b1df4   \n",
       "\n",
       "                               doc_uuid  \n",
       "0  69d0a22e-8293-45d8-80be-bed167dff23b  \n",
       "1  69d0a22e-8293-45d8-80be-bed167dff23b  \n",
       "2  69d0a22e-8293-45d8-80be-bed167dff23b  \n",
       "3  69d0a22e-8293-45d8-80be-bed167dff23b  \n",
       "4  69d0a22e-8293-45d8-80be-bed167dff23b  "
      ]
     },
     "execution_count": 28,
     "metadata": {},
     "output_type": "execute_result"
    }
   ],
   "source": [
    "results_df = _generate_structured_row_matches(fincen, employee)\n",
    "results_df.head()"
   ]
  },
  {
   "cell_type": "code",
   "execution_count": 23,
   "id": "deluxe-lodging",
   "metadata": {},
   "outputs": [
    {
     "data": {
      "text/plain": [
       "'Daniel'"
      ]
     },
     "execution_count": 23,
     "metadata": {},
     "output_type": "execute_result"
    }
   ],
   "source": [
    "fincen.get_data().iloc[2].first_name\n"
   ]
  },
  {
   "cell_type": "markdown",
   "id": "regular-auditor",
   "metadata": {},
   "source": [
    "# Write final dataframe to Main database"
   ]
  },
  {
   "cell_type": "code",
   "execution_count": 24,
   "id": "universal-chicken",
   "metadata": {},
   "outputs": [
    {
     "name": "stderr",
     "output_type": "stream",
     "text": [
      "[21/03/2021 20:58:57] [    INFO] [sqlalchemy.engine.base.Engine] [_begin_impl():730] [PID:99 TID:140612221933376] -> BEGIN (implicit)\n",
      "[21/03/2021 20:58:57] [    INFO] [sqlalchemy.engine.base.Engine] [_execute_context():1235] [PID:99 TID:140612221933376] -> INSERT INTO employee_to_document (employee_id, document_ingestion_id, related_employee_id) VALUES (%(employee_id)s, %(document_ingestion_id)s, %(related_employee_id)s) RETURNING employee_to_document.id\n",
      "[21/03/2021 20:58:57] [    INFO] [sqlalchemy.engine.base.Engine] [_execute_context():1240] [PID:99 TID:140612221933376] -> {'employee_id': UUID('7cca73ad-6adb-4898-a6c7-7e56835709ae'), 'document_ingestion_id': UUID('69d0a22e-8293-45d8-80be-bed167dff23b'), 'related_employee_id': None}\n",
      "[21/03/2021 20:58:57] [    INFO] [sqlalchemy.engine.base.Engine] [_execute_context():1235] [PID:99 TID:140612221933376] -> INSERT INTO employee_to_document (employee_id, document_ingestion_id, related_employee_id) VALUES (%(employee_id)s, %(document_ingestion_id)s, %(related_employee_id)s) RETURNING employee_to_document.id\n",
      "[21/03/2021 20:58:57] [    INFO] [sqlalchemy.engine.base.Engine] [_execute_context():1240] [PID:99 TID:140612221933376] -> {'employee_id': UUID('dcb6fe17-6374-4aa2-aba0-9e0cf6acabcd'), 'document_ingestion_id': UUID('69d0a22e-8293-45d8-80be-bed167dff23b'), 'related_employee_id': None}\n",
      "[21/03/2021 20:58:57] [    INFO] [sqlalchemy.engine.base.Engine] [_execute_context():1235] [PID:99 TID:140612221933376] -> INSERT INTO employee_to_document (employee_id, document_ingestion_id, related_employee_id) VALUES (%(employee_id)s, %(document_ingestion_id)s, %(related_employee_id)s) RETURNING employee_to_document.id\n",
      "[21/03/2021 20:58:57] [    INFO] [sqlalchemy.engine.base.Engine] [_execute_context():1240] [PID:99 TID:140612221933376] -> {'employee_id': UUID('4d25f9e3-4767-4ac2-9cbe-594cad8d8a6b'), 'document_ingestion_id': UUID('69d0a22e-8293-45d8-80be-bed167dff23b'), 'related_employee_id': None}\n",
      "[21/03/2021 20:58:57] [    INFO] [sqlalchemy.engine.base.Engine] [_execute_context():1235] [PID:99 TID:140612221933376] -> INSERT INTO employee_to_document (employee_id, document_ingestion_id, related_employee_id) VALUES (%(employee_id)s, %(document_ingestion_id)s, %(related_employee_id)s) RETURNING employee_to_document.id\n",
      "[21/03/2021 20:58:57] [    INFO] [sqlalchemy.engine.base.Engine] [_execute_context():1240] [PID:99 TID:140612221933376] -> {'employee_id': UUID('04307592-b5f4-4ebb-be72-e8d9ad6e9785'), 'document_ingestion_id': UUID('69d0a22e-8293-45d8-80be-bed167dff23b'), 'related_employee_id': None}\n",
      "[21/03/2021 20:58:57] [    INFO] [sqlalchemy.engine.base.Engine] [_execute_context():1235] [PID:99 TID:140612221933376] -> INSERT INTO employee_to_document (employee_id, document_ingestion_id, related_employee_id) VALUES (%(employee_id)s, %(document_ingestion_id)s, %(related_employee_id)s) RETURNING employee_to_document.id\n",
      "[21/03/2021 20:58:57] [    INFO] [sqlalchemy.engine.base.Engine] [_execute_context():1240] [PID:99 TID:140612221933376] -> {'employee_id': UUID('92067627-73f3-4b0d-8a04-ec46619b1df4'), 'document_ingestion_id': UUID('69d0a22e-8293-45d8-80be-bed167dff23b'), 'related_employee_id': None}\n",
      "[21/03/2021 20:58:57] [    INFO] [sqlalchemy.engine.base.Engine] [_execute_context():1235] [PID:99 TID:140612221933376] -> INSERT INTO employee_to_document (employee_id, document_ingestion_id, related_employee_id) VALUES (%(employee_id)s, %(document_ingestion_id)s, %(related_employee_id)s) RETURNING employee_to_document.id\n",
      "[21/03/2021 20:58:57] [    INFO] [sqlalchemy.engine.base.Engine] [_execute_context():1240] [PID:99 TID:140612221933376] -> {'employee_id': UUID('720021ee-a653-41d5-80fe-e17e436e0327'), 'document_ingestion_id': UUID('d48ed690-d5f5-45c0-bc58-693458e8b20c'), 'related_employee_id': None}\n",
      "[21/03/2021 20:58:57] [    INFO] [sqlalchemy.engine.base.Engine] [_execute_context():1235] [PID:99 TID:140612221933376] -> INSERT INTO employee_to_document (employee_id, document_ingestion_id, related_employee_id) VALUES (%(employee_id)s, %(document_ingestion_id)s, %(related_employee_id)s) RETURNING employee_to_document.id\n",
      "[21/03/2021 20:58:57] [    INFO] [sqlalchemy.engine.base.Engine] [_execute_context():1240] [PID:99 TID:140612221933376] -> {'employee_id': UUID('413049b4-58d0-4f4a-b276-8423a379ca41'), 'document_ingestion_id': UUID('d4d6cda1-4449-4718-9624-4bca3d5a7b55'), 'related_employee_id': None}\n",
      "[21/03/2021 20:58:57] [    INFO] [sqlalchemy.engine.base.Engine] [_commit_impl():772] [PID:99 TID:140612221933376] -> COMMIT\n"
     ]
    }
   ],
   "source": [
    "num_records = results_df.shape[0]\n",
    "with DBContext(DatabaseEnum.MAIN_INGESTION_DB) as main_db:\n",
    "    for i in range(num_records):\n",
    "        row = results_df.iloc[i]\n",
    "        main_db.add(EmployeeToDocument(employee_id=str(row.emp_uuid),\n",
    "                                       document_ingestion_id=str(row.doc_uuid)\n",
    "                                      ))"
   ]
  },
  {
   "cell_type": "code",
   "execution_count": null,
   "id": "comprehensive-nothing",
   "metadata": {},
   "outputs": [],
   "source": []
  }
 ],
 "metadata": {
  "kernelspec": {
   "display_name": "Python 3",
   "language": "python",
   "name": "python3"
  },
  "language_info": {
   "codemirror_mode": {
    "name": "ipython",
    "version": 3
   },
   "file_extension": ".py",
   "mimetype": "text/x-python",
   "name": "python",
   "nbconvert_exporter": "python",
   "pygments_lexer": "ipython3",
   "version": "3.7.7"
  }
 },
 "nbformat": 4,
 "nbformat_minor": 5
}
