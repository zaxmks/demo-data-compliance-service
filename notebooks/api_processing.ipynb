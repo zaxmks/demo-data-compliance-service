{
 "cells": [
  {
   "cell_type": "code",
   "execution_count": 1,
   "id": "respective-liverpool",
   "metadata": {},
   "outputs": [
    {
     "name": "stdout",
     "output_type": "stream",
     "text": [
      "/workspace/notebooks\r\n"
     ]
    }
   ],
   "source": [
    "!pwd\n",
    "import sys\n",
    "sys.path.append('/workspace')"
   ]
  },
  {
   "cell_type": "code",
   "execution_count": 2,
   "id": "sharp-motorcycle",
   "metadata": {},
   "outputs": [
    {
     "name": "stderr",
     "output_type": "stream",
     "text": [
      "[30/03/2021 04:20:58] [    INFO] [dotenv.main] [_get_stream():77] [PID:50 TID:140103025125184] -> Python-dotenv could not find configuration file /workspace/src/core/env/.local.env.local.\n"
     ]
    }
   ],
   "source": [
    "from src.core.db.config import DatabaseEnum\n",
    "from src.core.db.models.pdf_models import Fincen8300Rev4\n",
    "from src.core.db.session import DBContext, DbQuery, AppSession"
   ]
  },
  {
   "cell_type": "code",
   "execution_count": 7,
   "id": "mysterious-agent",
   "metadata": {},
   "outputs": [],
   "source": [
    "from src.core.db.models.main_models import ComplianceRunEvent\n",
    "from src.core.db.models.pdf_models import IngestionEvent\n",
    "\n",
    "def get_ingestion_event_and_write_to_compliance_run_event(ingestion_event_id: str):\n",
    "    with DBContext(DatabaseEnum.PDF_INGESTION_DB) as pdf_db:\n",
    "        result = pdf_db.query(IngestionEvent).filter(IngestionEvent.id == ingestion_event_id).one_or_none()\n",
    "        if result is None:\n",
    "            return None\n",
    "    \n",
    "        with DBContext(DatabaseEnum.MAIN_INGESTION_DB) as main_db:\n",
    "            main_db.add(ComplianceRunEvent(id=ingestion_event_id,\n",
    "                                           s3_bucket=result.s3_bucket,\n",
    "                                           s3_key=result.s3_key,\n",
    "                                           was_redacted = False,\n",
    "                                           status = 'ok'\n",
    "                                          ))\n",
    "    return 'done'\n",
    "        \n",
    "\n",
    "    "
   ]
  },
  {
   "cell_type": "code",
   "execution_count": 8,
   "id": "harmful-purse",
   "metadata": {},
   "outputs": [
    {
     "name": "stderr",
     "output_type": "stream",
     "text": [
      "[30/03/2021 04:23:34] [    INFO] [sqlalchemy.engine.base.Engine] [_begin_impl():730] [PID:50 TID:140103025125184] -> BEGIN (implicit)\n",
      "[30/03/2021 04:23:34] [    INFO] [sqlalchemy.engine.base.Engine] [_execute_context():1235] [PID:50 TID:140103025125184] -> SELECT ingestion_event.id AS ingestion_event_id, ingestion_event.s3_bucket AS ingestion_event_s3_bucket, ingestion_event.s3_key AS ingestion_event_s3_key, ingestion_event.created_at AS ingestion_event_created_at, ingestion_event.updated_at AS ingestion_event_updated_at, ingestion_event.parsing_strategy_type_id AS ingestion_event_parsing_strategy_type_id \n",
      "FROM ingestion_event \n",
      "WHERE ingestion_event.id = %(id_1)s\n",
      "[30/03/2021 04:23:34] [    INFO] [sqlalchemy.engine.base.Engine] [_execute_context():1237] [PID:50 TID:140103025125184] -> {'id_1': '17d0e319-c247-432f-9d91-f4259430f25b'}\n",
      "[30/03/2021 04:23:34] [    INFO] [sqlalchemy.engine.base.Engine] [_begin_impl():730] [PID:50 TID:140103025125184] -> BEGIN (implicit)\n",
      "[30/03/2021 04:23:34] [    INFO] [sqlalchemy.engine.base.Engine] [_execute_context():1235] [PID:50 TID:140103025125184] -> INSERT INTO compliance_run_event (id, deleted_at, s3_bucket, s3_key, was_redacted, status, document_type_id) VALUES (%(id)s, %(deleted_at)s, %(s3_bucket)s, %(s3_key)s, %(was_redacted)s, %(status)s, %(document_type_id)s)\n",
      "[30/03/2021 04:23:34] [    INFO] [sqlalchemy.engine.base.Engine] [_execute_context():1237] [PID:50 TID:140103025125184] -> {'id': UUID('17d0e319-c247-432f-9d91-f4259430f25b'), 'deleted_at': None, 's3_bucket': 'dev-mass-input-bucket', 's3_key': 'f8300_KH.pdf', 'was_redacted': False, 'status': 'ok', 'document_type_id': None}\n",
      "[30/03/2021 04:23:34] [    INFO] [sqlalchemy.engine.base.Engine] [_commit_impl():772] [PID:50 TID:140103025125184] -> COMMIT\n",
      "[30/03/2021 04:23:34] [    INFO] [sqlalchemy.engine.base.Engine] [_commit_impl():772] [PID:50 TID:140103025125184] -> COMMIT\n"
     ]
    },
    {
     "name": "stdout",
     "output_type": "stream",
     "text": [
      "done\n",
      "5\n"
     ]
    }
   ],
   "source": [
    "r = get_ingestion_event_and_write_to_compliance_run_event('17d0e319-c247-432f-9d91-f4259430f25b')\n",
    "print(r)\n",
    "print(5)"
   ]
  },
  {
   "cell_type": "code",
   "execution_count": null,
   "id": "featured-original",
   "metadata": {},
   "outputs": [],
   "source": [
    "#db = DbQuery(DatabaseEnum.PDF_INGESTION_DB)\n",
    "#result = db.execute(\"SELECT * from public.fincen8300_rev4\")\n",
    "from src.core.db.models.pdf_models import Fincen8300Rev4\n",
    "app_pdf = AppSession(DatabaseEnum.PDF_INGESTION_DB)\n",
    "session_pdf = app_pdf.instance\n",
    "result = session_pdf.query(Fincen8300Rev4).all()\n",
    "print(result)\n",
    "print(len(result))"
   ]
  },
  {
   "cell_type": "code",
   "execution_count": null,
   "id": "upset-aggregate",
   "metadata": {},
   "outputs": [],
   "source": [
    "from src.core.db.models.pdf_models import IngestionEvent\n",
    "ingestion_event_id = \"17d0e319-c247-432f-9d91-f4259430f25b\"\n",
    "#ingestion_event_id = \"99d0e319-c247-432f-9d91-f4259430f25b\"  # fake one\n",
    "result = session_pdf.query(IngestionEvent).filter(IngestionEvent.id == ingestion_event_id).one_or_none()\n",
    "if result is None:\n",
    "    print(\"None found\")\n",
    "else:\n",
    "    print(result.id)\n"
   ]
  },
  {
   "cell_type": "markdown",
   "id": "classical-edmonton",
   "metadata": {},
   "source": [
    "# Get the fincen document corresponding to the ingestion id"
   ]
  },
  {
   "cell_type": "code",
   "execution_count": null,
   "id": "breeding-athletics",
   "metadata": {},
   "outputs": [],
   "source": [
    "result = session_pdf.query(Fincen8300Rev4).filter(Fincen8300Rev4.ingestion_event_id == ingestion_event_id).one_or_none()\n",
    "if result is None:\n",
    "    print(\"None found\")\n",
    "else:\n",
    "    print(result.id)\n",
    "    print(type(result))\n"
   ]
  },
  {
   "cell_type": "code",
   "execution_count": null,
   "id": "southeast-dutch",
   "metadata": {},
   "outputs": [],
   "source": [
    "from sqlalchemy.inspection import inspect\n",
    "def convert_obj(obj):\n",
    "    result = defaultdict(list)\n",
    "    instance = inspect(obj)\n",
    "    for key, x in instance.attrs.items():\n",
    "            result[key].append(x.value)\n",
    "    return result\n",
    "    \n",
    "    \n",
    "from collections import defaultdict\n",
    "def query_to_dict(rset):\n",
    "    result = defaultdict(list)\n",
    "    for obj in rset:\n",
    "        instance = inspect(obj)\n",
    "        for key, x in instance.attrs.items():\n",
    "            result[key].append(x.value)\n",
    "    return result\n",
    "df = pd.DataFrame(convert_obj(result))\n",
    "df.head()"
   ]
  },
  {
   "cell_type": "markdown",
   "id": "devoted-lobby",
   "metadata": {},
   "source": [
    "# Read employee data into data source¶"
   ]
  },
  {
   "cell_type": "code",
   "execution_count": null,
   "id": "pursuant-software",
   "metadata": {},
   "outputs": [],
   "source": [
    "import pandas as pd\n",
    "db = DbQuery(DatabaseEnum.MAIN_INGESTION_DB)\n",
    "result = db.execute(\"SELECT * from public.employee\")\n",
    "df_employee = pd.DataFrame(result.fetchall())\n",
    "df_employee.columns = result.keys()\n",
    "df_employee.head(20)"
   ]
  },
  {
   "cell_type": "code",
   "execution_count": null,
   "id": "monthly-swedish",
   "metadata": {},
   "outputs": [],
   "source": [
    "# only reasonable way to get into a dataframe\n",
    "query = session_pdf.query(Fincen8300Rev4).filter(Fincen8300Rev4.ingestion_event_id == ingestion_event_id).statement\n",
    "df = pd.read_sql(query, app_pdf._engine)\n",
    "df.head()"
   ]
  },
  {
   "cell_type": "markdown",
   "id": "assisted-roman",
   "metadata": {},
   "source": [
    "# Map The Columns"
   ]
  },
  {
   "cell_type": "code",
   "execution_count": null,
   "id": "returning-insert",
   "metadata": {},
   "outputs": [],
   "source": [
    "from src.sources.structured_data_source import StructuredDataSource\n",
    "from src.mapping.pdfs.pdf_field_name_classifier import FieldNameClassifier\n",
    "from src.mapping.pdfs.pdf_field_label_catalog import FieldLabelCatalog\n",
    "from src.mapping.pdfs.pseudofield_generator import PseudofieldGenerator\n",
    "\n",
    "pseudofield_generator = PseudofieldGenerator(fincen)\n",
    "pseudofield_generator.generate()\n",
    "\n",
    "def _create_column_relations_for(source, target):\n",
    "    \"\"\"Create column relations from canonical column identifiers.\"\"\"\n",
    "    gold_id_info = FieldNameClassifier.get_id_info_from_df(target.get_data())\n",
    "    data_id_info = FieldNameClassifier.get_id_info_from_df(source.get_data())\n",
    "    for identifier in FieldLabelCatalog:\n",
    "        if identifier in gold_id_info and identifier in data_id_info:\n",
    "            g_id = gold_id_info[identifier]\n",
    "            d_id = data_id_info[identifier]\n",
    "            source.create_column_relation(\n",
    "                d_id.field_name, g_id.field_name, target\n",
    "            )\n",
    "            print(\n",
    "                \"New relation detected: %s\" % str(source.column_relations[-1])\n",
    "            )"
   ]
  },
  {
   "cell_type": "code",
   "execution_count": null,
   "id": "great-loading",
   "metadata": {},
   "outputs": [],
   "source": [
    "db = DbQuery(DatabaseEnum.PDF_INGESTION_DB)\n",
    "result = db.execute(\"SELECT * from public.fincen8300_rev4 limit 10\")\n",
    "df = pd.DataFrame(result.fetchall())\n",
    "df.columns = result.keys()\n",
    "print(df.shape)"
   ]
  },
  {
   "cell_type": "code",
   "execution_count": null,
   "id": "indie-british",
   "metadata": {},
   "outputs": [],
   "source": []
  }
 ],
 "metadata": {
  "kernelspec": {
   "display_name": "Python 3",
   "language": "python",
   "name": "python3"
  },
  "language_info": {
   "codemirror_mode": {
    "name": "ipython",
    "version": 3
   },
   "file_extension": ".py",
   "mimetype": "text/x-python",
   "name": "python",
   "nbconvert_exporter": "python",
   "pygments_lexer": "ipython3",
   "version": "3.8.6"
  }
 },
 "nbformat": 4,
 "nbformat_minor": 5
}
