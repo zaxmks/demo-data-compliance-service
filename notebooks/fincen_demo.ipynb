{
 "cells": [
  {
   "cell_type": "code",
   "execution_count": 1,
   "id": "strategic-influence",
   "metadata": {},
   "outputs": [
    {
     "name": "stdout",
     "output_type": "stream",
     "text": [
      "/workspace/notebooks\r\n"
     ]
    }
   ],
   "source": [
    "!pwd\n",
    "import sys\n",
    "sys.path.append('/workspace')"
   ]
  },
  {
   "cell_type": "code",
   "execution_count": 2,
   "id": "incomplete-hopkins",
   "metadata": {},
   "outputs": [
    {
     "name": "stderr",
     "output_type": "stream",
     "text": [
      "[29/03/2021 00:46:55] [    INFO] [dotenv.main] [_get_stream():77] [PID:215 TID:139832163526464] -> Python-dotenv could not find configuration file /workspace/src/core/env/.local.env.local.\n"
     ]
    }
   ],
   "source": [
    "from typing import List\n",
    "\n",
    "from pandas import DataFrame\n",
    "import pandas as pd\n",
    "\n",
    "import json\n",
    "\n",
    "from src.sources.data_source import DataSource\n",
    "\n",
    "from src.mapping.pdfs.pdf_field_name_classifier import FieldNameClassifier\n",
    "from src.mapping.pdfs.pdf_field_label_catalog import FieldLabelCatalog\n",
    "from src.mapping.pdfs.pseudofield_generator import PseudofieldGenerator\n",
    "from src.mapping.rows.row_mapping_configuration import RowMappingConfiguration\n",
    "from src.mapping.values.value_matching_configuration import ValueMatchingConfiguration\n",
    "from src.core.db.config import DatabaseEnum\n",
    "from src.core.db.models.pdf_models import Fincen8300Rev4\n",
    "from src.core.db.models.main_models import EmployeeToDocument\n",
    "from src.core.db.session import DBContext, DbQuery, AppSession\n",
    "from src.mapping.columns.column_relation import ColumnRelation"
   ]
  },
  {
   "cell_type": "code",
   "execution_count": 3,
   "id": "corresponding-amendment",
   "metadata": {},
   "outputs": [],
   "source": [
    "class ColumnMap:\n",
    "    def __init__(self):\n",
    "        self.employee = self._get_employee_data_source()\n",
    "        value_matching_config_json = self._load_config(\n",
    "            \"../config/mapping/levenshtein_default.json\"\n",
    "        )\n",
    "        row_mapping_config_json = self._load_config(\n",
    "            \"../config/mapping/weighted_linear_default.json\"\n",
    "        )\n",
    "        self.value_matching_config = ValueMatchingConfiguration(\n",
    "            **value_matching_config_json\n",
    "        )\n",
    "        self.row_mapping_config = RowMappingConfiguration(**row_mapping_config_json)\n",
    "\n",
    "        self.fincen_column_relations = self._get_fincen_column_relations()\n",
    "\n",
    "    def _get_fincen_column_relations(self) -> List[ColumnRelation]:\n",
    "        fincen = self._get_fincen_data_source()\n",
    "\n",
    "        pseudofield_generator = PseudofieldGenerator(fincen)\n",
    "        pseudofield_generator.generate()\n",
    "\n",
    "        # noinspection PyTypeChecker\n",
    "        self._create_column_relations_for(fincen, self.employee)\n",
    "        # noinspection PyTypeChecker\n",
    "        return fincen.column_relations\n",
    "\n",
    "    @staticmethod\n",
    "    def _get_fincen_data_source() -> DataSource:\n",
    "        db = DbQuery(DatabaseEnum.PDF_INGESTION_DB)\n",
    "        result = db.execute(\"SELECT * from public.fincen8300_rev4 limit 10\")\n",
    "        df = DataFrame(result.fetchall())\n",
    "        df.columns = result.keys()\n",
    "        fincen = DataSource(df)\n",
    "        return fincen\n",
    "\n",
    "    @staticmethod\n",
    "    def _get_employee_data_source() -> DataSource:\n",
    "        db = DbQuery(DatabaseEnum.MAIN_INGESTION_DB)\n",
    "        result = db.execute(\"SELECT * from public.employee\")\n",
    "        df = DataFrame(result.fetchall())\n",
    "        df.columns = result.keys()\n",
    "        employee = DataSource(df)\n",
    "        return employee\n",
    "\n",
    "    @staticmethod\n",
    "    def _create_column_relations_for(source, target):\n",
    "        \"\"\"Create column relations from canonical column identifiers.\"\"\"\n",
    "        gold_id_info = FieldNameClassifier.get_id_info_from_df(target.get_data())\n",
    "        data_id_info = FieldNameClassifier.get_id_info_from_df(source.get_data())\n",
    "        for identifier in FieldLabelCatalog:\n",
    "            if identifier in gold_id_info and identifier in data_id_info:\n",
    "                g_id = gold_id_info[identifier]\n",
    "                d_id = data_id_info[identifier]\n",
    "                source.create_column_relation(d_id.field_name, g_id.field_name, target)\n",
    "                print(\"New relation detected: %s\" % str(source.column_relations[-1]))\n",
    "\n",
    "    @staticmethod\n",
    "    def _load_config(path) -> dict:\n",
    "        \"\"\"\n",
    "        Read JSON from a filepath\n",
    "        \"\"\"\n",
    "        with open(path, \"r\") as F:\n",
    "            return json.load(F)\n",
    "\n",
    "    def generate_structured_row_matches(self, source: DataSource) -> DataFrame:\n",
    "        \"\"\"Generate structured row matches.\"\"\"\n",
    "        rows = {\n",
    "            \"first_name\": [],  # just for sanity check\n",
    "            \"last_name\": [],  # just for sanity check\n",
    "            \"ingestion_event_id\": [],\n",
    "            \"employee_id\": [],\n",
    "        }\n",
    "        # noinspection PyUnresolvedReferences\n",
    "        for relation in source.row_relations:\n",
    "            source_index = relation.source_index\n",
    "            target_index = relation.target_index\n",
    "            # noinspection PyUnresolvedReferences\n",
    "            source_row = source.get_data().iloc[source_index]\n",
    "            # noinspection PyUnresolvedReferences\n",
    "            target_row = self.employee.get_data().iloc[target_index]\n",
    "            rows[\"employee_id\"].append(target_row.id)\n",
    "            rows[\"ingestion_event_id\"].append(source_row.ingestion_event_id)\n",
    "            rows[\"first_name\"].append(source_row.first_name)\n",
    "            rows[\"last_name\"].append(source_row.last_name)\n",
    "        return DataFrame(rows)\n"
   ]
  },
  {
   "cell_type": "code",
   "execution_count": 4,
   "id": "collaborative-conversation",
   "metadata": {},
   "outputs": [
    {
     "name": "stderr",
     "output_type": "stream",
     "text": [
      "[29/03/2021 00:46:56] [    INFO] [sqlalchemy.engine.base.Engine] [_execute_context():1235] [PID:215 TID:139832163526464] -> select version()\n",
      "[29/03/2021 00:46:56] [    INFO] [sqlalchemy.engine.base.Engine] [_execute_context():1237] [PID:215 TID:139832163526464] -> {}\n",
      "[29/03/2021 00:46:56] [    INFO] [sqlalchemy.engine.base.Engine] [_execute_context():1235] [PID:215 TID:139832163526464] -> select current_schema()\n",
      "[29/03/2021 00:46:56] [    INFO] [sqlalchemy.engine.base.Engine] [_execute_context():1237] [PID:215 TID:139832163526464] -> {}\n",
      "[29/03/2021 00:46:56] [    INFO] [sqlalchemy.engine.base.Engine] [_cursor_execute():1341] [PID:215 TID:139832163526464] -> SELECT CAST('test plain returns' AS VARCHAR(60)) AS anon_1\n",
      "[29/03/2021 00:46:56] [    INFO] [sqlalchemy.engine.base.Engine] [_cursor_execute():1342] [PID:215 TID:139832163526464] -> {}\n",
      "[29/03/2021 00:46:56] [    INFO] [sqlalchemy.engine.base.Engine] [_cursor_execute():1341] [PID:215 TID:139832163526464] -> SELECT CAST('test unicode returns' AS VARCHAR(60)) AS anon_1\n",
      "[29/03/2021 00:46:56] [    INFO] [sqlalchemy.engine.base.Engine] [_cursor_execute():1342] [PID:215 TID:139832163526464] -> {}\n",
      "[29/03/2021 00:46:56] [    INFO] [sqlalchemy.engine.base.Engine] [_execute_context():1235] [PID:215 TID:139832163526464] -> show standard_conforming_strings\n",
      "[29/03/2021 00:46:56] [    INFO] [sqlalchemy.engine.base.Engine] [_execute_context():1237] [PID:215 TID:139832163526464] -> {}\n",
      "[29/03/2021 00:46:56] [    INFO] [sqlalchemy.engine.base.Engine] [_execute_context():1235] [PID:215 TID:139832163526464] -> SELECT * from public.employee\n",
      "[29/03/2021 00:46:56] [    INFO] [sqlalchemy.engine.base.Engine] [_execute_context():1237] [PID:215 TID:139832163526464] -> {}\n",
      "[29/03/2021 00:46:56] [    INFO] [sqlalchemy.engine.base.Engine] [_execute_context():1235] [PID:215 TID:139832163526464] -> select version()\n",
      "[29/03/2021 00:46:56] [    INFO] [sqlalchemy.engine.base.Engine] [_execute_context():1237] [PID:215 TID:139832163526464] -> {}\n",
      "[29/03/2021 00:46:56] [    INFO] [sqlalchemy.engine.base.Engine] [_execute_context():1235] [PID:215 TID:139832163526464] -> select current_schema()\n",
      "[29/03/2021 00:46:56] [    INFO] [sqlalchemy.engine.base.Engine] [_execute_context():1237] [PID:215 TID:139832163526464] -> {}\n",
      "[29/03/2021 00:46:56] [    INFO] [sqlalchemy.engine.base.Engine] [_cursor_execute():1341] [PID:215 TID:139832163526464] -> SELECT CAST('test plain returns' AS VARCHAR(60)) AS anon_1\n",
      "[29/03/2021 00:46:56] [    INFO] [sqlalchemy.engine.base.Engine] [_cursor_execute():1342] [PID:215 TID:139832163526464] -> {}\n",
      "[29/03/2021 00:46:56] [    INFO] [sqlalchemy.engine.base.Engine] [_cursor_execute():1341] [PID:215 TID:139832163526464] -> SELECT CAST('test unicode returns' AS VARCHAR(60)) AS anon_1\n",
      "[29/03/2021 00:46:56] [    INFO] [sqlalchemy.engine.base.Engine] [_cursor_execute():1342] [PID:215 TID:139832163526464] -> {}\n",
      "[29/03/2021 00:46:56] [    INFO] [sqlalchemy.engine.base.Engine] [_execute_context():1235] [PID:215 TID:139832163526464] -> show standard_conforming_strings\n",
      "[29/03/2021 00:46:56] [    INFO] [sqlalchemy.engine.base.Engine] [_execute_context():1237] [PID:215 TID:139832163526464] -> {}\n",
      "[29/03/2021 00:46:56] [    INFO] [sqlalchemy.engine.base.Engine] [_execute_context():1235] [PID:215 TID:139832163526464] -> SELECT * from public.fincen8300_rev4 limit 10\n",
      "[29/03/2021 00:46:56] [    INFO] [sqlalchemy.engine.base.Engine] [_execute_context():1237] [PID:215 TID:139832163526464] -> {}\n"
     ]
    },
    {
     "name": "stdout",
     "output_type": "stream",
     "text": [
      "New relation detected: tin -> pandas DataFrame (hash 477683055509494867): ssn (1.00 conf)\n",
      "New relation detected: dob -> pandas DataFrame (hash 477683055509494867): date_of_birth (1.00 conf)\n",
      "New relation detected: first_name -> pandas DataFrame (hash 477683055509494867): first_name (1.00 conf)\n",
      "New relation detected: last_name -> pandas DataFrame (hash 477683055509494867): last_name (1.00 conf)\n"
     ]
    }
   ],
   "source": [
    "cm = ColumnMap()"
   ]
  },
  {
   "cell_type": "code",
   "execution_count": 5,
   "id": "accurate-greene",
   "metadata": {},
   "outputs": [],
   "source": [
    "def filter_and_retain(ingestion_event_id: str):\n",
    "    app_pdf = AppSession(DatabaseEnum.PDF_INGESTION_DB)\n",
    "    session_pdf = app_pdf.instance\n",
    "    # only reasonable way to get into a dataframe\n",
    "    query = (\n",
    "        session_pdf.query(Fincen8300Rev4)\n",
    "        .filter(Fincen8300Rev4.ingestion_event_id == ingestion_event_id)\n",
    "        .statement\n",
    "    )\n",
    "    df = pd.read_sql(query, app_pdf.engine)\n",
    "    \n",
    "    num_document_matches = df.shape[0]\n",
    "    fincen = DataSource(df)\n",
    "    fincen.column_relations = cm.fincen_column_relations\n",
    "    fincen.map_rows_to(\n",
    "        cm.employee, cm.value_matching_config, cm.row_mapping_config\n",
    "    )\n",
    "    print(fincen.row_relations)\n",
    "    results_df = cm.generate_structured_row_matches(fincen)\n",
    "    num_records = results_df.shape[0]\n",
    "    with DBContext(DatabaseEnum.MAIN_INGESTION_DB) as main_db:\n",
    "        for i in range(num_records):\n",
    "            row = results_df.iloc[i]\n",
    "            main_db.add(\n",
    "                EmployeeToDocument(\n",
    "                    employee_id=str(row.employee_id),\n",
    "                    ingestion_event_id=str(row.ingestion_event_id),\n",
    "                )\n",
    "            )\n",
    "    return f\"Num documents matched: {num_document_matches}, \" \\\n",
    "           f\"Num employees matched: {num_records}\""
   ]
  },
  {
   "cell_type": "code",
   "execution_count": 6,
   "id": "collect-vatican",
   "metadata": {
    "scrolled": true
   },
   "outputs": [
    {
     "name": "stderr",
     "output_type": "stream",
     "text": [
      "[29/03/2021 00:46:56] [    INFO] [sqlalchemy.engine.base.Engine] [_execute_context():1235] [PID:215 TID:139832163526464] -> select relname from pg_class c join pg_namespace n on n.oid=c.relnamespace where pg_catalog.pg_table_is_visible(c.oid) and relname=%(name)s\n",
      "[29/03/2021 00:46:56] [    INFO] [sqlalchemy.engine.base.Engine] [_execute_context():1237] [PID:215 TID:139832163526464] -> {'name': 'SELECT fincen8300_rev4.id, fincen8300_rev4.amends_prior_report, fincen8300_rev4.suspicious_transaction, fincen8300_rev4.multiple_individuals, fincen8 ... (2168 characters truncated) ... ate_cash_received, fincen8300_rev4.date_of_signature_footer \\nFROM fincen8300_rev4 \\nWHERE fincen8300_rev4.ingestion_event_id = :ingestion_event_id_1'}\n",
      "[29/03/2021 00:46:56] [    INFO] [sqlalchemy.engine.base.Engine] [_execute_context():1235] [PID:215 TID:139832163526464] -> SELECT fincen8300_rev4.id, fincen8300_rev4.amends_prior_report, fincen8300_rev4.suspicious_transaction, fincen8300_rev4.multiple_individuals, fincen8300_rev4.last_name, fincen8300_rev4.first_name, fincen8300_rev4.middle_initial, fincen8300_rev4.tin, fincen8300_rev4.address, fincen8300_rev4.city, fincen8300_rev4.state, fincen8300_rev4.zip, fincen8300_rev4.country, fincen8300_rev4.occ_prof_bus, fincen8300_rev4.identdoc_describe, fincen8300_rev4.identdoc_issued_by, fincen8300_rev4.identdoc_number, fincen8300_rev4.multiple_behalf, fincen8300_rev4.last_name_org_name_behalf, fincen8300_rev4.first_name_behalf, fincen8300_rev4.middle_initial_behalf, fincen8300_rev4.tin_behalf, fincen8300_rev4.dba_behalf, fincen8300_rev4.address_behalf, fincen8300_rev4.occ_prof_bus_behalf, fincen8300_rev4.city_behalf, fincen8300_rev4.state_behalf, fincen8300_rev4.zip_behalf, fincen8300_rev4.country_behalf, fincen8300_rev4.identdoc_describe_behalf, fincen8300_rev4.identdoc_issued_by_behalf, fincen8300_rev4.identdoc_number_behalf, fincen8300_rev4.total_cash_received, fincen8300_rev4.cash_received_mult_pmts, fincen8300_rev4.total_price, fincen8300_rev4.usde_us_currency, fincen8300_rev4.usde_amt_benj_higher, fincen8300_rev4.usde_foreign_currency, fincen8300_rev4.foreign_currency_country, fincen8300_rev4.usde_cashiers_checks, fincen8300_rev4.usde_money_orders, fincen8300_rev4.usde_bank_drafts, fincen8300_rev4.usde_travelers_checks, fincen8300_rev4.type_ot_personal_prop, fincen8300_rev4.type_ot_real_property, fincen8300_rev4.type_ot_personal_services, fincen8300_rev4.type_ot_business_services, fincen8300_rev4.type_ot_intangible_property, fincen8300_rev4.type_ot_debt_obligations_paid, fincen8300_rev4.type_ot_exchange_of_cash, fincen8300_rev4.type_ot_escrow_or_trust_funds, fincen8300_rev4.type_ot_bail_received, fincen8300_rev4.type_ot_other, fincen8300_rev4.specific_description_of_property, fincen8300_rev4.business_name_brc, fincen8300_rev4.ein_brc, fincen8300_rev4.address_brc, fincen8300_rev4.city_brc, fincen8300_rev4.state_brc, fincen8300_rev4.zip_code_brc, fincen8300_rev4.nature_of_business_brc, fincen8300_rev4.signature_footer, fincen8300_rev4.title_footer, fincen8300_rev4.contact_name_printed_brc, fincen8300_rev4.contact_phone_brc, fincen8300_rev4.ingestion_event_id, fincen8300_rev4.dob, fincen8300_rev4.date_cash_received, fincen8300_rev4.date_of_signature_footer \n",
      "FROM fincen8300_rev4 \n",
      "WHERE fincen8300_rev4.ingestion_event_id = %(ingestion_event_id_1)s\n",
      "[29/03/2021 00:46:56] [    INFO] [sqlalchemy.engine.base.Engine] [_execute_context():1237] [PID:215 TID:139832163526464] -> {'ingestion_event_id_1': '17d0e319-c247-432f-9d91-f4259430f25b'}\n"
     ]
    },
    {
     "name": "stdout",
     "output_type": "stream",
     "text": [
      "[]\n",
      "Num documents matched: 1, Num employees matched: 0\n"
     ]
    }
   ],
   "source": [
    "# This person not in employee database\n",
    "ingestion_event_id = \"17d0e319-c247-432f-9d91-f4259430f25b\"\n",
    "m = filter_and_retain(ingestion_event_id)\n",
    "print(m)"
   ]
  },
  {
   "cell_type": "code",
   "execution_count": 7,
   "id": "buried-tumor",
   "metadata": {},
   "outputs": [
    {
     "name": "stderr",
     "output_type": "stream",
     "text": [
      "[29/03/2021 00:46:57] [    INFO] [sqlalchemy.engine.base.Engine] [_execute_context():1235] [PID:215 TID:139832163526464] -> select relname from pg_class c join pg_namespace n on n.oid=c.relnamespace where pg_catalog.pg_table_is_visible(c.oid) and relname=%(name)s\n",
      "[29/03/2021 00:46:57] [    INFO] [sqlalchemy.engine.base.Engine] [_execute_context():1237] [PID:215 TID:139832163526464] -> {'name': 'SELECT fincen8300_rev4.id, fincen8300_rev4.amends_prior_report, fincen8300_rev4.suspicious_transaction, fincen8300_rev4.multiple_individuals, fincen8 ... (2168 characters truncated) ... ate_cash_received, fincen8300_rev4.date_of_signature_footer \\nFROM fincen8300_rev4 \\nWHERE fincen8300_rev4.ingestion_event_id = :ingestion_event_id_1'}\n",
      "[29/03/2021 00:46:57] [    INFO] [sqlalchemy.engine.base.Engine] [_execute_context():1235] [PID:215 TID:139832163526464] -> SELECT fincen8300_rev4.id, fincen8300_rev4.amends_prior_report, fincen8300_rev4.suspicious_transaction, fincen8300_rev4.multiple_individuals, fincen8300_rev4.last_name, fincen8300_rev4.first_name, fincen8300_rev4.middle_initial, fincen8300_rev4.tin, fincen8300_rev4.address, fincen8300_rev4.city, fincen8300_rev4.state, fincen8300_rev4.zip, fincen8300_rev4.country, fincen8300_rev4.occ_prof_bus, fincen8300_rev4.identdoc_describe, fincen8300_rev4.identdoc_issued_by, fincen8300_rev4.identdoc_number, fincen8300_rev4.multiple_behalf, fincen8300_rev4.last_name_org_name_behalf, fincen8300_rev4.first_name_behalf, fincen8300_rev4.middle_initial_behalf, fincen8300_rev4.tin_behalf, fincen8300_rev4.dba_behalf, fincen8300_rev4.address_behalf, fincen8300_rev4.occ_prof_bus_behalf, fincen8300_rev4.city_behalf, fincen8300_rev4.state_behalf, fincen8300_rev4.zip_behalf, fincen8300_rev4.country_behalf, fincen8300_rev4.identdoc_describe_behalf, fincen8300_rev4.identdoc_issued_by_behalf, fincen8300_rev4.identdoc_number_behalf, fincen8300_rev4.total_cash_received, fincen8300_rev4.cash_received_mult_pmts, fincen8300_rev4.total_price, fincen8300_rev4.usde_us_currency, fincen8300_rev4.usde_amt_benj_higher, fincen8300_rev4.usde_foreign_currency, fincen8300_rev4.foreign_currency_country, fincen8300_rev4.usde_cashiers_checks, fincen8300_rev4.usde_money_orders, fincen8300_rev4.usde_bank_drafts, fincen8300_rev4.usde_travelers_checks, fincen8300_rev4.type_ot_personal_prop, fincen8300_rev4.type_ot_real_property, fincen8300_rev4.type_ot_personal_services, fincen8300_rev4.type_ot_business_services, fincen8300_rev4.type_ot_intangible_property, fincen8300_rev4.type_ot_debt_obligations_paid, fincen8300_rev4.type_ot_exchange_of_cash, fincen8300_rev4.type_ot_escrow_or_trust_funds, fincen8300_rev4.type_ot_bail_received, fincen8300_rev4.type_ot_other, fincen8300_rev4.specific_description_of_property, fincen8300_rev4.business_name_brc, fincen8300_rev4.ein_brc, fincen8300_rev4.address_brc, fincen8300_rev4.city_brc, fincen8300_rev4.state_brc, fincen8300_rev4.zip_code_brc, fincen8300_rev4.nature_of_business_brc, fincen8300_rev4.signature_footer, fincen8300_rev4.title_footer, fincen8300_rev4.contact_name_printed_brc, fincen8300_rev4.contact_phone_brc, fincen8300_rev4.ingestion_event_id, fincen8300_rev4.dob, fincen8300_rev4.date_cash_received, fincen8300_rev4.date_of_signature_footer \n",
      "FROM fincen8300_rev4 \n",
      "WHERE fincen8300_rev4.ingestion_event_id = %(ingestion_event_id_1)s\n",
      "[29/03/2021 00:46:57] [    INFO] [sqlalchemy.engine.base.Engine] [_execute_context():1237] [PID:215 TID:139832163526464] -> {'ingestion_event_id_1': '58320e40-5ca6-437c-8d72-adb1a66d7f78'}\n",
      "[29/03/2021 00:46:57] [    INFO] [sqlalchemy.engine.base.Engine] [_begin_impl():730] [PID:215 TID:139832163526464] -> BEGIN (implicit)\n",
      "[29/03/2021 00:46:57] [    INFO] [sqlalchemy.engine.base.Engine] [_execute_context():1235] [PID:215 TID:139832163526464] -> INSERT INTO employee_to_document (employee_id, ingestion_event_id, related_employee_id) VALUES (%(employee_id)s, %(ingestion_event_id)s, %(related_employee_id)s) RETURNING employee_to_document.id\n",
      "[29/03/2021 00:46:57] [    INFO] [sqlalchemy.engine.base.Engine] [_execute_context():1237] [PID:215 TID:139832163526464] -> {'employee_id': UUID('c6082f2d-45bd-48e9-a65c-7eef2cdb478f'), 'ingestion_event_id': UUID('58320e40-5ca6-437c-8d72-adb1a66d7f78'), 'related_employee_id': None}\n",
      "[29/03/2021 00:46:57] [    INFO] [sqlalchemy.engine.base.Engine] [_commit_impl():772] [PID:215 TID:139832163526464] -> COMMIT\n"
     ]
    },
    {
     "name": "stdout",
     "output_type": "stream",
     "text": [
      "[RowRelation(target_data_source=pandas DataFrame (hash 477683055509494867), source_index=0, target_index=13, confidence=0.8838090114490482)]\n",
      "Num documents matched: 1, Num employees matched: 1\n"
     ]
    }
   ],
   "source": [
    "# This person in employee database\n",
    "ingestion_event_id = \"58320e40-5ca6-437c-8d72-adb1a66d7f78\"\n",
    "m = filter_and_retain(ingestion_event_id)\n",
    "print(m)"
   ]
  },
  {
   "cell_type": "code",
   "execution_count": null,
   "id": "suspected-doubt",
   "metadata": {},
   "outputs": [],
   "source": []
  }
 ],
 "metadata": {
  "kernelspec": {
   "display_name": "Python 3",
   "language": "python",
   "name": "python3"
  },
  "language_info": {
   "codemirror_mode": {
    "name": "ipython",
    "version": 3
   },
   "file_extension": ".py",
   "mimetype": "text/x-python",
   "name": "python",
   "nbconvert_exporter": "python",
   "pygments_lexer": "ipython3",
   "version": "3.8.6"
  }
 },
 "nbformat": 4,
 "nbformat_minor": 5
}
