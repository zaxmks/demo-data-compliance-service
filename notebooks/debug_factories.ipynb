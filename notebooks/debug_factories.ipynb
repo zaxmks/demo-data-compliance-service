{
 "cells": [
  {
   "cell_type": "code",
   "execution_count": 1,
   "id": "1e8f4983",
   "metadata": {},
   "outputs": [
    {
     "name": "stdout",
     "output_type": "stream",
     "text": [
      "/workspace\n"
     ]
    }
   ],
   "source": [
    "%cd ../"
   ]
  },
  {
   "cell_type": "code",
   "execution_count": 2,
   "id": "f978068c",
   "metadata": {
    "scrolled": false
   },
   "outputs": [
    {
     "name": "stderr",
     "output_type": "stream",
     "text": [
      "[12/05/2021 21:25:25] [    INFO] [dotenv.main] [_get_stream():77] [PID:110 TID:139897107257152] -> Python-dotenv could not find configuration file /workspace/src/core/env/.local.env.local.\n",
      "[12/05/2021 21:25:25] [    INFO] [kfai_sql_chemistry.aws.aws_db_config] [detect_db_config():38] [PID:110 TID:139897107257152] -> create a database config from the local environment.\n",
      "[12/05/2021 21:25:25] [    INFO] [kfai_sql_chemistry.aws.aws_db_config] [detect_db_config():38] [PID:110 TID:139897107257152] -> create a database config from the local environment.\n",
      "[12/05/2021 21:25:25] [    INFO] [kfai_sql_chemistry.aws.aws_db_config] [detect_db_config():38] [PID:110 TID:139897107257152] -> create a database config from the local environment.\n"
     ]
    }
   ],
   "source": [
    "from src.core.db.db_init import db_init\n",
    "from src.core.db.db_init import MainDbSession\n",
    "db_init()"
   ]
  },
  {
   "cell_type": "code",
   "execution_count": 3,
   "id": "ed2a8f38",
   "metadata": {},
   "outputs": [],
   "source": [
    "from src.tests.utils.factories import MainDocumentTypeFactory, MainEmployeeFactory\n",
    "from src.core.db.models.main_models import DocumentType, Employee"
   ]
  },
  {
   "cell_type": "code",
   "execution_count": 4,
   "id": "671a041f",
   "metadata": {},
   "outputs": [
    {
     "name": "stdout",
     "output_type": "stream",
     "text": [
      "01085910-6323-1908-0845-918890930212 FINCEN8300\n",
      "34460187-6130-0363-0247-798871920078 FINCEN8300\n",
      "82348463-2760-4241-0413-079584030587 UNKNOWN\n",
      "58758578-9262-4142-6829-599533946495 UNKNOWN\n",
      "54393524-4523-9628-4722-320255439984 FINCEN8300\n",
      "45361367-7565-0759-4792-438079240856 UNKNOWN\n",
      "78120850-5590-3514-4197-652543346293 UNKNOWN\n",
      "60557137-2102-9172-0872-916794453327 FINCEN8300\n",
      "75842122-2439-1038-1778-769927544769 FINCEN8300\n",
      "06971192-3899-3858-5748-515574073188 FINCEN8300\n"
     ]
    }
   ],
   "source": [
    "for i in range(10):\n",
    "    m = MainDocumentTypeFactory()\n",
    "    print(f\"{m.id} {m.name}\")"
   ]
  },
  {
   "cell_type": "code",
   "execution_count": 5,
   "id": "99a5d450",
   "metadata": {},
   "outputs": [],
   "source": [
    "with MainDbSession() as session:\n",
    "    result = session.query(DocumentType).all()"
   ]
  },
  {
   "cell_type": "code",
   "execution_count": 6,
   "id": "7847b842",
   "metadata": {},
   "outputs": [
    {
     "data": {
      "text/plain": [
       "['01085910-6323-1908-0845-918890930212 FINCEN8300',\n",
       " '34460187-6130-0363-0247-798871920078 FINCEN8300',\n",
       " '82348463-2760-4241-0413-079584030587 UNKNOWN',\n",
       " '58758578-9262-4142-6829-599533946495 UNKNOWN',\n",
       " '54393524-4523-9628-4722-320255439984 FINCEN8300',\n",
       " '45361367-7565-0759-4792-438079240856 UNKNOWN',\n",
       " '78120850-5590-3514-4197-652543346293 UNKNOWN',\n",
       " '60557137-2102-9172-0872-916794453327 FINCEN8300',\n",
       " '75842122-2439-1038-1778-769927544769 FINCEN8300',\n",
       " '06971192-3899-3858-5748-515574073188 FINCEN8300']"
      ]
     },
     "execution_count": 6,
     "metadata": {},
     "output_type": "execute_result"
    }
   ],
   "source": [
    "[f\"{r.id} {r.name}\" for r in result]"
   ]
  },
  {
   "cell_type": "code",
   "execution_count": 7,
   "id": "a07edbf3",
   "metadata": {},
   "outputs": [
    {
     "name": "stdout",
     "output_type": "stream",
     "text": [
      "Michelle Miller 317936195 1970-03-27\n",
      "Renee Reyes 157434966 2002-05-30\n",
      "James Cobb 204873035 2020-05-07\n",
      "Amber Bailey 356354810 2007-11-10\n",
      "Debra Barnes 339823740 1974-06-05\n",
      "Brandon Donaldson 510257840 2019-03-23\n",
      "Allison Johnson 533045665 2006-05-02\n",
      "Jack Cook 504032358 1976-10-29\n",
      "Diana Woods 172178316 2004-03-28\n",
      "Julie Doyle 355052942 2011-02-03\n"
     ]
    }
   ],
   "source": [
    "for i in range(10):\n",
    "    m = MainEmployeeFactory()\n",
    "    print(f\"{m.first_name} {m.last_name} {m.ssn} {m.date_of_birth}\")"
   ]
  },
  {
   "cell_type": "code",
   "execution_count": 8,
   "id": "0fce1940",
   "metadata": {},
   "outputs": [],
   "source": [
    "with MainDbSession() as session:\n",
    "    result = session.query(Employee).all()"
   ]
  },
  {
   "cell_type": "code",
   "execution_count": 9,
   "id": "639639a2",
   "metadata": {},
   "outputs": [
    {
     "data": {
      "text/plain": [
       "['Michelle Miller 317936195 1970-03-27',\n",
       " 'Renee Reyes 157434966 2002-05-30',\n",
       " 'James Cobb 204873035 2020-05-07',\n",
       " 'Amber Bailey 356354810 2007-11-10',\n",
       " 'Debra Barnes 339823740 1974-06-05',\n",
       " 'Brandon Donaldson 510257840 2019-03-23',\n",
       " 'Allison Johnson 533045665 2006-05-02',\n",
       " 'Jack Cook 504032358 1976-10-29',\n",
       " 'Diana Woods 172178316 2004-03-28',\n",
       " 'Julie Doyle 355052942 2011-02-03']"
      ]
     },
     "execution_count": 9,
     "metadata": {},
     "output_type": "execute_result"
    }
   ],
   "source": [
    "[f\"{r.first_name} {r.last_name} {r.ssn} {r.date_of_birth}\" for r in result]"
   ]
  }
 ],
 "metadata": {
  "kernelspec": {
   "display_name": "Python 3",
   "language": "python",
   "name": "python3"
  },
  "language_info": {
   "codemirror_mode": {
    "name": "ipython",
    "version": 3
   },
   "file_extension": ".py",
   "mimetype": "text/x-python",
   "name": "python",
   "nbconvert_exporter": "python",
   "pygments_lexer": "ipython3",
   "version": "3.8.6"
  }
 },
 "nbformat": 4,
 "nbformat_minor": 5
}
