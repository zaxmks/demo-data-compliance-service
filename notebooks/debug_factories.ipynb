{
 "cells": [
  {
   "cell_type": "code",
   "execution_count": 1,
   "id": "1e8f4983",
   "metadata": {},
   "outputs": [
    {
     "name": "stdout",
     "output_type": "stream",
     "text": [
      "/workspace\n"
     ]
    }
   ],
   "source": [
    "%cd ../"
   ]
  },
  {
   "cell_type": "code",
   "execution_count": 2,
   "id": "f978068c",
   "metadata": {
    "scrolled": false
   },
   "outputs": [
    {
     "name": "stderr",
     "output_type": "stream",
     "text": [
      "[12/05/2021 21:46:27] [    INFO] [dotenv.main] [_get_stream():77] [PID:122 TID:140056868173632] -> Python-dotenv could not find configuration file /workspace/src/core/env/.local.env.local.\n",
      "[12/05/2021 21:46:27] [    INFO] [kfai_sql_chemistry.aws.aws_db_config] [detect_db_config():38] [PID:122 TID:140056868173632] -> create a database config from the local environment.\n",
      "[12/05/2021 21:46:27] [    INFO] [kfai_sql_chemistry.aws.aws_db_config] [detect_db_config():38] [PID:122 TID:140056868173632] -> create a database config from the local environment.\n",
      "[12/05/2021 21:46:27] [    INFO] [kfai_sql_chemistry.aws.aws_db_config] [detect_db_config():38] [PID:122 TID:140056868173632] -> create a database config from the local environment.\n"
     ]
    }
   ],
   "source": [
    "from src.core.db.db_init import db_init\n",
    "from src.core.db.db_init import MainDbSession\n",
    "db_init()"
   ]
  },
  {
   "cell_type": "code",
   "execution_count": 3,
   "id": "ed2a8f38",
   "metadata": {},
   "outputs": [],
   "source": [
    "from src.tests.utils.factories import MainDocumentTypeFactory, MainEmployeeFactory\n",
    "from src.core.db.models.main_models import DocumentType, Employee"
   ]
  },
  {
   "cell_type": "code",
   "execution_count": 4,
   "id": "671a041f",
   "metadata": {},
   "outputs": [
    {
     "name": "stdout",
     "output_type": "stream",
     "text": [
      "93606837-2902-9734-9185-657680124806 FINCEN8300\n",
      "77790745-3668-3155-7029-764523850724 UNKNOWN\n",
      "52052572-1887-6771-2301-004006679581 UNKNOWN\n",
      "97483527-9629-6506-2069-956512290451 FINCEN8300\n",
      "82887150-7204-7816-0007-571750332995 FINCEN8300\n",
      "93561112-5797-7997-4345-442664586759 FINCEN8300\n",
      "37388593-3934-2354-6608-980259544080 FINCEN8300\n",
      "08531910-2900-6419-0601-590363756225 FINCEN8300\n",
      "31309935-7462-6649-4356-360937881641 UNKNOWN\n",
      "71938307-0508-2169-8952-895583363063 UNKNOWN\n"
     ]
    }
   ],
   "source": [
    "for i in range(10):\n",
    "    m = MainDocumentTypeFactory()\n",
    "    print(f\"{m.id} {m.name}\")"
   ]
  },
  {
   "cell_type": "code",
   "execution_count": 5,
   "id": "99a5d450",
   "metadata": {},
   "outputs": [],
   "source": [
    "with MainDbSession() as session:\n",
    "    result = session.query(DocumentType).all()"
   ]
  },
  {
   "cell_type": "code",
   "execution_count": 6,
   "id": "7847b842",
   "metadata": {},
   "outputs": [
    {
     "data": {
      "text/plain": [
       "['93606837-2902-9734-9185-657680124806 FINCEN8300',\n",
       " '77790745-3668-3155-7029-764523850724 UNKNOWN',\n",
       " '52052572-1887-6771-2301-004006679581 UNKNOWN',\n",
       " '97483527-9629-6506-2069-956512290451 FINCEN8300',\n",
       " '82887150-7204-7816-0007-571750332995 FINCEN8300',\n",
       " '93561112-5797-7997-4345-442664586759 FINCEN8300',\n",
       " '37388593-3934-2354-6608-980259544080 FINCEN8300',\n",
       " '08531910-2900-6419-0601-590363756225 FINCEN8300',\n",
       " '31309935-7462-6649-4356-360937881641 UNKNOWN',\n",
       " '71938307-0508-2169-8952-895583363063 UNKNOWN']"
      ]
     },
     "execution_count": 6,
     "metadata": {},
     "output_type": "execute_result"
    }
   ],
   "source": [
    "[f\"{r.id} {r.name}\" for r in result]"
   ]
  },
  {
   "cell_type": "code",
   "execution_count": 7,
   "id": "a07edbf3",
   "metadata": {},
   "outputs": [
    {
     "name": "stdout",
     "output_type": "stream",
     "text": [
      "Edward Martinez 912792456 1989-01-04\n",
      "Anne Swanson 815050233 1971-05-16\n",
      "Austin Delgado 933480834 1975-10-20\n",
      "James Carpenter 373218974 1974-09-29\n",
      "Justin Larson 924097320 1980-01-21\n",
      "Yvonne Stafford 959953874 1993-02-21\n",
      "James Cross 842194709 1987-08-17\n",
      "Christian Oneal 063789110 1975-09-12\n",
      "Ronald Wolfe 497759640 1971-08-23\n",
      "Caleb Scott 885146185 1999-03-15\n"
     ]
    }
   ],
   "source": [
    "for i in range(10):\n",
    "    m = MainEmployeeFactory()\n",
    "    print(f\"{m.first_name} {m.last_name} {m.ssn} {m.date_of_birth}\")"
   ]
  },
  {
   "cell_type": "code",
   "execution_count": 11,
   "id": "0fce1940",
   "metadata": {},
   "outputs": [],
   "source": [
    "with MainDbSession() as session:\n",
    "    result = session.query(Employee).all()"
   ]
  },
  {
   "cell_type": "code",
   "execution_count": 12,
   "id": "639639a2",
   "metadata": {},
   "outputs": [
    {
     "data": {
      "text/plain": [
       "['Edward Martinez 912792456 1989-01-04',\n",
       " 'Anne Swanson 815050233 1971-05-16',\n",
       " 'Austin Delgado 933480834 1975-10-20',\n",
       " 'James Carpenter 373218974 1974-09-29',\n",
       " 'Justin Larson 924097320 1980-01-21',\n",
       " 'Yvonne Stafford 959953874 1993-02-21',\n",
       " 'James Cross 842194709 1987-08-17',\n",
       " 'Christian Oneal 063789110 1975-09-12',\n",
       " 'Ronald Wolfe 497759640 1971-08-23',\n",
       " 'Caleb Scott 885146185 1999-03-15']"
      ]
     },
     "execution_count": 12,
     "metadata": {},
     "output_type": "execute_result"
    }
   ],
   "source": [
    "[f\"{r.first_name} {r.last_name} {r.ssn} {r.date_of_birth}\" for r in result]"
   ]
  }
 ],
 "metadata": {
  "kernelspec": {
   "display_name": "Python 3",
   "language": "python",
   "name": "python3"
  },
  "language_info": {
   "codemirror_mode": {
    "name": "ipython",
    "version": 3
   },
   "file_extension": ".py",
   "mimetype": "text/x-python",
   "name": "python",
   "nbconvert_exporter": "python",
   "pygments_lexer": "ipython3",
   "version": "3.8.6"
  }
 },
 "nbformat": 4,
 "nbformat_minor": 5
}
