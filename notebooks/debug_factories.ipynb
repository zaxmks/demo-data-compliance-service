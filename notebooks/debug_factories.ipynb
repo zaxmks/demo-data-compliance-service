{
 "cells": [
  {
   "cell_type": "code",
   "execution_count": 1,
   "id": "1e8f4983",
   "metadata": {},
   "outputs": [
    {
     "name": "stdout",
     "output_type": "stream",
     "text": [
      "/workspace\n"
     ]
    }
   ],
   "source": [
    "%cd ../"
   ]
  },
  {
   "cell_type": "code",
   "execution_count": 2,
   "id": "f978068c",
   "metadata": {
    "scrolled": false
   },
   "outputs": [
    {
     "name": "stderr",
     "output_type": "stream",
     "text": [
      "[29/04/2021 21:29:47] [    INFO] [dotenv.main] [_get_stream():77] [PID:26 TID:140313986926400] -> Python-dotenv could not find configuration file /workspace/src/core/env/.local.env.local.\n",
      "[29/04/2021 21:29:47] [    INFO] [kfai_sql_chemistry.aws.aws_db_config] [detect_db_config():38] [PID:26 TID:140313986926400] -> create a database config from the local environment.\n",
      "[29/04/2021 21:29:47] [    INFO] [kfai_sql_chemistry.aws.aws_db_config] [detect_db_config():38] [PID:26 TID:140313986926400] -> create a database config from the local environment.\n",
      "[29/04/2021 21:29:47] [    INFO] [kfai_sql_chemistry.aws.aws_db_config] [detect_db_config():38] [PID:26 TID:140313986926400] -> create a database config from the local environment.\n"
     ]
    }
   ],
   "source": [
    "from src.core.db.db_init import db_init\n",
    "db_init()"
   ]
  },
  {
   "cell_type": "code",
   "execution_count": 3,
   "id": "ed2a8f38",
   "metadata": {},
   "outputs": [],
   "source": [
    "from src.tests.utils.factories import MainDocumentTypeFactory\n",
    "from src.core.db.models.main_models import DocumentType"
   ]
  },
  {
   "cell_type": "code",
   "execution_count": 8,
   "id": "671a041f",
   "metadata": {},
   "outputs": [],
   "source": [
    "for i in range(10):\n",
    "    MainDocumentTypeFactory()"
   ]
  },
  {
   "cell_type": "code",
   "execution_count": 5,
   "id": "77d3286f",
   "metadata": {},
   "outputs": [],
   "source": [
    "from src.core.db.db_init import MainDbSession"
   ]
  },
  {
   "cell_type": "code",
   "execution_count": 15,
   "id": "aa04b1f4",
   "metadata": {},
   "outputs": [],
   "source": [
    "m = MainDocumentTypeFactory()"
   ]
  },
  {
   "cell_type": "code",
   "execution_count": 13,
   "id": "99a5d450",
   "metadata": {},
   "outputs": [
    {
     "ename": "AttributeError",
     "evalue": "type object 'MainDocumentTypeFactory' has no attribute 'query'",
     "output_type": "error",
     "traceback": [
      "\u001b[0;31m---------------------------------------------------------------------------\u001b[0m",
      "\u001b[0;31mAttributeError\u001b[0m                            Traceback (most recent call last)",
      "\u001b[0;32m<ipython-input-13-f81b3bbc81d8>\u001b[0m in \u001b[0;36m<module>\u001b[0;34m\u001b[0m\n\u001b[0;32m----> 1\u001b[0;31m \u001b[0mMainDocumentTypeFactory\u001b[0m\u001b[0;34m.\u001b[0m\u001b[0mquery\u001b[0m\u001b[0;34m.\u001b[0m\u001b[0mall\u001b[0m\u001b[0;34m(\u001b[0m\u001b[0;34m)\u001b[0m\u001b[0;34m\u001b[0m\u001b[0;34m\u001b[0m\u001b[0m\n\u001b[0m",
      "\u001b[0;31mAttributeError\u001b[0m: type object 'MainDocumentTypeFactory' has no attribute 'query'"
     ]
    }
   ],
   "source": [
    "MainDocumentTypeFactory.query.all()"
   ]
  }
 ],
 "metadata": {
  "kernelspec": {
   "display_name": "Python 3",
   "language": "python",
   "name": "python3"
  },
  "language_info": {
   "codemirror_mode": {
    "name": "ipython",
    "version": 3
   },
   "file_extension": ".py",
   "mimetype": "text/x-python",
   "name": "python",
   "nbconvert_exporter": "python",
   "pygments_lexer": "ipython3",
   "version": "3.8.6"
  }
 },
 "nbformat": 4,
 "nbformat_minor": 5
}
